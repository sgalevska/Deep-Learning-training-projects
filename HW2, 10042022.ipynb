{
  "nbformat": 4,
  "nbformat_minor": 0,
  "metadata": {
    "colab": {
      "name": "HW2.ipynb",
      "provenance": [],
      "collapsed_sections": []
    },
    "kernelspec": {
      "display_name": "Python 3",
      "name": "python3"
    },
    "widgets": {
      "application/vnd.jupyter.widget-state+json": {
        "4eb94abb79004873834bd6b0e391adf5": {
          "model_module": "@jupyter-widgets/controls",
          "model_name": "HBoxModel",
          "model_module_version": "1.5.0",
          "state": {
            "_dom_classes": [],
            "_model_module": "@jupyter-widgets/controls",
            "_model_module_version": "1.5.0",
            "_model_name": "HBoxModel",
            "_view_count": null,
            "_view_module": "@jupyter-widgets/controls",
            "_view_module_version": "1.5.0",
            "_view_name": "HBoxView",
            "box_style": "",
            "children": [
              "IPY_MODEL_fca916f402da4bbe9229ccc55e98461e",
              "IPY_MODEL_9cfe921973254465855ab7be67c83699",
              "IPY_MODEL_04a5390c74ea45fa85c44f345f3e9ade"
            ],
            "layout": "IPY_MODEL_b615e73db7834caeb68f0843109871c1"
          }
        },
        "fca916f402da4bbe9229ccc55e98461e": {
          "model_module": "@jupyter-widgets/controls",
          "model_name": "HTMLModel",
          "model_module_version": "1.5.0",
          "state": {
            "_dom_classes": [],
            "_model_module": "@jupyter-widgets/controls",
            "_model_module_version": "1.5.0",
            "_model_name": "HTMLModel",
            "_view_count": null,
            "_view_module": "@jupyter-widgets/controls",
            "_view_module_version": "1.5.0",
            "_view_name": "HTMLView",
            "description": "",
            "description_tooltip": null,
            "layout": "IPY_MODEL_d5af01c5b95047dfbffc912efcad846f",
            "placeholder": "​",
            "style": "IPY_MODEL_0b33099167c94b119f99b30af8cd32ec",
            "value": "Dl Completed...: "
          }
        },
        "9cfe921973254465855ab7be67c83699": {
          "model_module": "@jupyter-widgets/controls",
          "model_name": "FloatProgressModel",
          "model_module_version": "1.5.0",
          "state": {
            "_dom_classes": [],
            "_model_module": "@jupyter-widgets/controls",
            "_model_module_version": "1.5.0",
            "_model_name": "FloatProgressModel",
            "_view_count": null,
            "_view_module": "@jupyter-widgets/controls",
            "_view_module_version": "1.5.0",
            "_view_name": "ProgressView",
            "bar_style": "success",
            "description": "",
            "description_tooltip": null,
            "layout": "IPY_MODEL_2d57f4977496421e99f6cdaec52a314d",
            "max": 1,
            "min": 0,
            "orientation": "horizontal",
            "style": "IPY_MODEL_392b51f3f20448cd9b29fa78780ce1c5",
            "value": 0
          }
        },
        "04a5390c74ea45fa85c44f345f3e9ade": {
          "model_module": "@jupyter-widgets/controls",
          "model_name": "HTMLModel",
          "model_module_version": "1.5.0",
          "state": {
            "_dom_classes": [],
            "_model_module": "@jupyter-widgets/controls",
            "_model_module_version": "1.5.0",
            "_model_name": "HTMLModel",
            "_view_count": null,
            "_view_module": "@jupyter-widgets/controls",
            "_view_module_version": "1.5.0",
            "_view_name": "HTMLView",
            "description": "",
            "description_tooltip": null,
            "layout": "IPY_MODEL_3b300f875ffd43f4949ff742a2deb2bd",
            "placeholder": "​",
            "style": "IPY_MODEL_a455da3208f64d9abc5f0ad2c63d356c",
            "value": " 0/0 [00:00&lt;?, ? url/s]"
          }
        },
        "b615e73db7834caeb68f0843109871c1": {
          "model_module": "@jupyter-widgets/base",
          "model_name": "LayoutModel",
          "model_module_version": "1.2.0",
          "state": {
            "_model_module": "@jupyter-widgets/base",
            "_model_module_version": "1.2.0",
            "_model_name": "LayoutModel",
            "_view_count": null,
            "_view_module": "@jupyter-widgets/base",
            "_view_module_version": "1.2.0",
            "_view_name": "LayoutView",
            "align_content": null,
            "align_items": null,
            "align_self": null,
            "border": null,
            "bottom": null,
            "display": null,
            "flex": null,
            "flex_flow": null,
            "grid_area": null,
            "grid_auto_columns": null,
            "grid_auto_flow": null,
            "grid_auto_rows": null,
            "grid_column": null,
            "grid_gap": null,
            "grid_row": null,
            "grid_template_areas": null,
            "grid_template_columns": null,
            "grid_template_rows": null,
            "height": null,
            "justify_content": null,
            "justify_items": null,
            "left": null,
            "margin": null,
            "max_height": null,
            "max_width": null,
            "min_height": null,
            "min_width": null,
            "object_fit": null,
            "object_position": null,
            "order": null,
            "overflow": null,
            "overflow_x": null,
            "overflow_y": null,
            "padding": null,
            "right": null,
            "top": null,
            "visibility": null,
            "width": null
          }
        },
        "d5af01c5b95047dfbffc912efcad846f": {
          "model_module": "@jupyter-widgets/base",
          "model_name": "LayoutModel",
          "model_module_version": "1.2.0",
          "state": {
            "_model_module": "@jupyter-widgets/base",
            "_model_module_version": "1.2.0",
            "_model_name": "LayoutModel",
            "_view_count": null,
            "_view_module": "@jupyter-widgets/base",
            "_view_module_version": "1.2.0",
            "_view_name": "LayoutView",
            "align_content": null,
            "align_items": null,
            "align_self": null,
            "border": null,
            "bottom": null,
            "display": null,
            "flex": null,
            "flex_flow": null,
            "grid_area": null,
            "grid_auto_columns": null,
            "grid_auto_flow": null,
            "grid_auto_rows": null,
            "grid_column": null,
            "grid_gap": null,
            "grid_row": null,
            "grid_template_areas": null,
            "grid_template_columns": null,
            "grid_template_rows": null,
            "height": null,
            "justify_content": null,
            "justify_items": null,
            "left": null,
            "margin": null,
            "max_height": null,
            "max_width": null,
            "min_height": null,
            "min_width": null,
            "object_fit": null,
            "object_position": null,
            "order": null,
            "overflow": null,
            "overflow_x": null,
            "overflow_y": null,
            "padding": null,
            "right": null,
            "top": null,
            "visibility": null,
            "width": null
          }
        },
        "0b33099167c94b119f99b30af8cd32ec": {
          "model_module": "@jupyter-widgets/controls",
          "model_name": "DescriptionStyleModel",
          "model_module_version": "1.5.0",
          "state": {
            "_model_module": "@jupyter-widgets/controls",
            "_model_module_version": "1.5.0",
            "_model_name": "DescriptionStyleModel",
            "_view_count": null,
            "_view_module": "@jupyter-widgets/base",
            "_view_module_version": "1.2.0",
            "_view_name": "StyleView",
            "description_width": ""
          }
        },
        "2d57f4977496421e99f6cdaec52a314d": {
          "model_module": "@jupyter-widgets/base",
          "model_name": "LayoutModel",
          "model_module_version": "1.2.0",
          "state": {
            "_model_module": "@jupyter-widgets/base",
            "_model_module_version": "1.2.0",
            "_model_name": "LayoutModel",
            "_view_count": null,
            "_view_module": "@jupyter-widgets/base",
            "_view_module_version": "1.2.0",
            "_view_name": "LayoutView",
            "align_content": null,
            "align_items": null,
            "align_self": null,
            "border": null,
            "bottom": null,
            "display": null,
            "flex": null,
            "flex_flow": null,
            "grid_area": null,
            "grid_auto_columns": null,
            "grid_auto_flow": null,
            "grid_auto_rows": null,
            "grid_column": null,
            "grid_gap": null,
            "grid_row": null,
            "grid_template_areas": null,
            "grid_template_columns": null,
            "grid_template_rows": null,
            "height": null,
            "justify_content": null,
            "justify_items": null,
            "left": null,
            "margin": null,
            "max_height": null,
            "max_width": null,
            "min_height": null,
            "min_width": null,
            "object_fit": null,
            "object_position": null,
            "order": null,
            "overflow": null,
            "overflow_x": null,
            "overflow_y": null,
            "padding": null,
            "right": null,
            "top": null,
            "visibility": null,
            "width": "20px"
          }
        },
        "392b51f3f20448cd9b29fa78780ce1c5": {
          "model_module": "@jupyter-widgets/controls",
          "model_name": "ProgressStyleModel",
          "model_module_version": "1.5.0",
          "state": {
            "_model_module": "@jupyter-widgets/controls",
            "_model_module_version": "1.5.0",
            "_model_name": "ProgressStyleModel",
            "_view_count": null,
            "_view_module": "@jupyter-widgets/base",
            "_view_module_version": "1.2.0",
            "_view_name": "StyleView",
            "bar_color": null,
            "description_width": ""
          }
        },
        "3b300f875ffd43f4949ff742a2deb2bd": {
          "model_module": "@jupyter-widgets/base",
          "model_name": "LayoutModel",
          "model_module_version": "1.2.0",
          "state": {
            "_model_module": "@jupyter-widgets/base",
            "_model_module_version": "1.2.0",
            "_model_name": "LayoutModel",
            "_view_count": null,
            "_view_module": "@jupyter-widgets/base",
            "_view_module_version": "1.2.0",
            "_view_name": "LayoutView",
            "align_content": null,
            "align_items": null,
            "align_self": null,
            "border": null,
            "bottom": null,
            "display": null,
            "flex": null,
            "flex_flow": null,
            "grid_area": null,
            "grid_auto_columns": null,
            "grid_auto_flow": null,
            "grid_auto_rows": null,
            "grid_column": null,
            "grid_gap": null,
            "grid_row": null,
            "grid_template_areas": null,
            "grid_template_columns": null,
            "grid_template_rows": null,
            "height": null,
            "justify_content": null,
            "justify_items": null,
            "left": null,
            "margin": null,
            "max_height": null,
            "max_width": null,
            "min_height": null,
            "min_width": null,
            "object_fit": null,
            "object_position": null,
            "order": null,
            "overflow": null,
            "overflow_x": null,
            "overflow_y": null,
            "padding": null,
            "right": null,
            "top": null,
            "visibility": null,
            "width": null
          }
        },
        "a455da3208f64d9abc5f0ad2c63d356c": {
          "model_module": "@jupyter-widgets/controls",
          "model_name": "DescriptionStyleModel",
          "model_module_version": "1.5.0",
          "state": {
            "_model_module": "@jupyter-widgets/controls",
            "_model_module_version": "1.5.0",
            "_model_name": "DescriptionStyleModel",
            "_view_count": null,
            "_view_module": "@jupyter-widgets/base",
            "_view_module_version": "1.2.0",
            "_view_name": "StyleView",
            "description_width": ""
          }
        },
        "42f2d41b4cce4a2486421e7244905b08": {
          "model_module": "@jupyter-widgets/controls",
          "model_name": "HBoxModel",
          "model_module_version": "1.5.0",
          "state": {
            "_dom_classes": [],
            "_model_module": "@jupyter-widgets/controls",
            "_model_module_version": "1.5.0",
            "_model_name": "HBoxModel",
            "_view_count": null,
            "_view_module": "@jupyter-widgets/controls",
            "_view_module_version": "1.5.0",
            "_view_name": "HBoxView",
            "box_style": "",
            "children": [
              "IPY_MODEL_d6e6b74dbbdb48099e1c501303ce80f4",
              "IPY_MODEL_60f8a6a73a6547b5bd772056ea3b51aa",
              "IPY_MODEL_30b02d16996b46efbfe55cec3b5efdfc"
            ],
            "layout": "IPY_MODEL_0c7a82672f504313b70c461b79548f02"
          }
        },
        "d6e6b74dbbdb48099e1c501303ce80f4": {
          "model_module": "@jupyter-widgets/controls",
          "model_name": "HTMLModel",
          "model_module_version": "1.5.0",
          "state": {
            "_dom_classes": [],
            "_model_module": "@jupyter-widgets/controls",
            "_model_module_version": "1.5.0",
            "_model_name": "HTMLModel",
            "_view_count": null,
            "_view_module": "@jupyter-widgets/controls",
            "_view_module_version": "1.5.0",
            "_view_name": "HTMLView",
            "description": "",
            "description_tooltip": null,
            "layout": "IPY_MODEL_6022ebf73ac64a2a940e91ce9cc2dd01",
            "placeholder": "​",
            "style": "IPY_MODEL_0d0892cf8222419abf9237bf3349e3e5",
            "value": "Dl Size...: "
          }
        },
        "60f8a6a73a6547b5bd772056ea3b51aa": {
          "model_module": "@jupyter-widgets/controls",
          "model_name": "FloatProgressModel",
          "model_module_version": "1.5.0",
          "state": {
            "_dom_classes": [],
            "_model_module": "@jupyter-widgets/controls",
            "_model_module_version": "1.5.0",
            "_model_name": "FloatProgressModel",
            "_view_count": null,
            "_view_module": "@jupyter-widgets/controls",
            "_view_module_version": "1.5.0",
            "_view_name": "ProgressView",
            "bar_style": "success",
            "description": "",
            "description_tooltip": null,
            "layout": "IPY_MODEL_9dc5118aad4c480c9cf5f993e17e81ae",
            "max": 1,
            "min": 0,
            "orientation": "horizontal",
            "style": "IPY_MODEL_530eb8aa28134529a357286fad640cec",
            "value": 0
          }
        },
        "30b02d16996b46efbfe55cec3b5efdfc": {
          "model_module": "@jupyter-widgets/controls",
          "model_name": "HTMLModel",
          "model_module_version": "1.5.0",
          "state": {
            "_dom_classes": [],
            "_model_module": "@jupyter-widgets/controls",
            "_model_module_version": "1.5.0",
            "_model_name": "HTMLModel",
            "_view_count": null,
            "_view_module": "@jupyter-widgets/controls",
            "_view_module_version": "1.5.0",
            "_view_name": "HTMLView",
            "description": "",
            "description_tooltip": null,
            "layout": "IPY_MODEL_0e60dc453a8848c0ae6a15144171d834",
            "placeholder": "​",
            "style": "IPY_MODEL_213a07691e3d45188fc226537a4562bb",
            "value": " 0/0 [00:00&lt;?, ? MiB/s]"
          }
        },
        "0c7a82672f504313b70c461b79548f02": {
          "model_module": "@jupyter-widgets/base",
          "model_name": "LayoutModel",
          "model_module_version": "1.2.0",
          "state": {
            "_model_module": "@jupyter-widgets/base",
            "_model_module_version": "1.2.0",
            "_model_name": "LayoutModel",
            "_view_count": null,
            "_view_module": "@jupyter-widgets/base",
            "_view_module_version": "1.2.0",
            "_view_name": "LayoutView",
            "align_content": null,
            "align_items": null,
            "align_self": null,
            "border": null,
            "bottom": null,
            "display": null,
            "flex": null,
            "flex_flow": null,
            "grid_area": null,
            "grid_auto_columns": null,
            "grid_auto_flow": null,
            "grid_auto_rows": null,
            "grid_column": null,
            "grid_gap": null,
            "grid_row": null,
            "grid_template_areas": null,
            "grid_template_columns": null,
            "grid_template_rows": null,
            "height": null,
            "justify_content": null,
            "justify_items": null,
            "left": null,
            "margin": null,
            "max_height": null,
            "max_width": null,
            "min_height": null,
            "min_width": null,
            "object_fit": null,
            "object_position": null,
            "order": null,
            "overflow": null,
            "overflow_x": null,
            "overflow_y": null,
            "padding": null,
            "right": null,
            "top": null,
            "visibility": null,
            "width": null
          }
        },
        "6022ebf73ac64a2a940e91ce9cc2dd01": {
          "model_module": "@jupyter-widgets/base",
          "model_name": "LayoutModel",
          "model_module_version": "1.2.0",
          "state": {
            "_model_module": "@jupyter-widgets/base",
            "_model_module_version": "1.2.0",
            "_model_name": "LayoutModel",
            "_view_count": null,
            "_view_module": "@jupyter-widgets/base",
            "_view_module_version": "1.2.0",
            "_view_name": "LayoutView",
            "align_content": null,
            "align_items": null,
            "align_self": null,
            "border": null,
            "bottom": null,
            "display": null,
            "flex": null,
            "flex_flow": null,
            "grid_area": null,
            "grid_auto_columns": null,
            "grid_auto_flow": null,
            "grid_auto_rows": null,
            "grid_column": null,
            "grid_gap": null,
            "grid_row": null,
            "grid_template_areas": null,
            "grid_template_columns": null,
            "grid_template_rows": null,
            "height": null,
            "justify_content": null,
            "justify_items": null,
            "left": null,
            "margin": null,
            "max_height": null,
            "max_width": null,
            "min_height": null,
            "min_width": null,
            "object_fit": null,
            "object_position": null,
            "order": null,
            "overflow": null,
            "overflow_x": null,
            "overflow_y": null,
            "padding": null,
            "right": null,
            "top": null,
            "visibility": null,
            "width": null
          }
        },
        "0d0892cf8222419abf9237bf3349e3e5": {
          "model_module": "@jupyter-widgets/controls",
          "model_name": "DescriptionStyleModel",
          "model_module_version": "1.5.0",
          "state": {
            "_model_module": "@jupyter-widgets/controls",
            "_model_module_version": "1.5.0",
            "_model_name": "DescriptionStyleModel",
            "_view_count": null,
            "_view_module": "@jupyter-widgets/base",
            "_view_module_version": "1.2.0",
            "_view_name": "StyleView",
            "description_width": ""
          }
        },
        "9dc5118aad4c480c9cf5f993e17e81ae": {
          "model_module": "@jupyter-widgets/base",
          "model_name": "LayoutModel",
          "model_module_version": "1.2.0",
          "state": {
            "_model_module": "@jupyter-widgets/base",
            "_model_module_version": "1.2.0",
            "_model_name": "LayoutModel",
            "_view_count": null,
            "_view_module": "@jupyter-widgets/base",
            "_view_module_version": "1.2.0",
            "_view_name": "LayoutView",
            "align_content": null,
            "align_items": null,
            "align_self": null,
            "border": null,
            "bottom": null,
            "display": null,
            "flex": null,
            "flex_flow": null,
            "grid_area": null,
            "grid_auto_columns": null,
            "grid_auto_flow": null,
            "grid_auto_rows": null,
            "grid_column": null,
            "grid_gap": null,
            "grid_row": null,
            "grid_template_areas": null,
            "grid_template_columns": null,
            "grid_template_rows": null,
            "height": null,
            "justify_content": null,
            "justify_items": null,
            "left": null,
            "margin": null,
            "max_height": null,
            "max_width": null,
            "min_height": null,
            "min_width": null,
            "object_fit": null,
            "object_position": null,
            "order": null,
            "overflow": null,
            "overflow_x": null,
            "overflow_y": null,
            "padding": null,
            "right": null,
            "top": null,
            "visibility": null,
            "width": "20px"
          }
        },
        "530eb8aa28134529a357286fad640cec": {
          "model_module": "@jupyter-widgets/controls",
          "model_name": "ProgressStyleModel",
          "model_module_version": "1.5.0",
          "state": {
            "_model_module": "@jupyter-widgets/controls",
            "_model_module_version": "1.5.0",
            "_model_name": "ProgressStyleModel",
            "_view_count": null,
            "_view_module": "@jupyter-widgets/base",
            "_view_module_version": "1.2.0",
            "_view_name": "StyleView",
            "bar_color": null,
            "description_width": ""
          }
        },
        "0e60dc453a8848c0ae6a15144171d834": {
          "model_module": "@jupyter-widgets/base",
          "model_name": "LayoutModel",
          "model_module_version": "1.2.0",
          "state": {
            "_model_module": "@jupyter-widgets/base",
            "_model_module_version": "1.2.0",
            "_model_name": "LayoutModel",
            "_view_count": null,
            "_view_module": "@jupyter-widgets/base",
            "_view_module_version": "1.2.0",
            "_view_name": "LayoutView",
            "align_content": null,
            "align_items": null,
            "align_self": null,
            "border": null,
            "bottom": null,
            "display": null,
            "flex": null,
            "flex_flow": null,
            "grid_area": null,
            "grid_auto_columns": null,
            "grid_auto_flow": null,
            "grid_auto_rows": null,
            "grid_column": null,
            "grid_gap": null,
            "grid_row": null,
            "grid_template_areas": null,
            "grid_template_columns": null,
            "grid_template_rows": null,
            "height": null,
            "justify_content": null,
            "justify_items": null,
            "left": null,
            "margin": null,
            "max_height": null,
            "max_width": null,
            "min_height": null,
            "min_width": null,
            "object_fit": null,
            "object_position": null,
            "order": null,
            "overflow": null,
            "overflow_x": null,
            "overflow_y": null,
            "padding": null,
            "right": null,
            "top": null,
            "visibility": null,
            "width": null
          }
        },
        "213a07691e3d45188fc226537a4562bb": {
          "model_module": "@jupyter-widgets/controls",
          "model_name": "DescriptionStyleModel",
          "model_module_version": "1.5.0",
          "state": {
            "_model_module": "@jupyter-widgets/controls",
            "_model_module_version": "1.5.0",
            "_model_name": "DescriptionStyleModel",
            "_view_count": null,
            "_view_module": "@jupyter-widgets/base",
            "_view_module_version": "1.2.0",
            "_view_name": "StyleView",
            "description_width": ""
          }
        },
        "419d3e1478644414801b15b39f1b84d3": {
          "model_module": "@jupyter-widgets/controls",
          "model_name": "HBoxModel",
          "model_module_version": "1.5.0",
          "state": {
            "_dom_classes": [],
            "_model_module": "@jupyter-widgets/controls",
            "_model_module_version": "1.5.0",
            "_model_name": "HBoxModel",
            "_view_count": null,
            "_view_module": "@jupyter-widgets/controls",
            "_view_module_version": "1.5.0",
            "_view_name": "HBoxView",
            "box_style": "",
            "children": [
              "IPY_MODEL_1fbaf3b5a85c4b26862a7c8aa578c381",
              "IPY_MODEL_6bafd33a331d4affb5c4dc382d98b017",
              "IPY_MODEL_af91d7a1ec84456aaf2fcbb55a0ce32a"
            ],
            "layout": "IPY_MODEL_0134e1efeae440109d13cb0f6dc2981e"
          }
        },
        "1fbaf3b5a85c4b26862a7c8aa578c381": {
          "model_module": "@jupyter-widgets/controls",
          "model_name": "HTMLModel",
          "model_module_version": "1.5.0",
          "state": {
            "_dom_classes": [],
            "_model_module": "@jupyter-widgets/controls",
            "_model_module_version": "1.5.0",
            "_model_name": "HTMLModel",
            "_view_count": null,
            "_view_module": "@jupyter-widgets/controls",
            "_view_module_version": "1.5.0",
            "_view_name": "HTMLView",
            "description": "",
            "description_tooltip": null,
            "layout": "IPY_MODEL_1c7e19e77eeb4d87b73ac7c5a3843abf",
            "placeholder": "​",
            "style": "IPY_MODEL_fb919b6a5c6c4ff9bfd48c8c1978e188",
            "value": "Extraction completed...: 100%"
          }
        },
        "6bafd33a331d4affb5c4dc382d98b017": {
          "model_module": "@jupyter-widgets/controls",
          "model_name": "FloatProgressModel",
          "model_module_version": "1.5.0",
          "state": {
            "_dom_classes": [],
            "_model_module": "@jupyter-widgets/controls",
            "_model_module_version": "1.5.0",
            "_model_name": "FloatProgressModel",
            "_view_count": null,
            "_view_module": "@jupyter-widgets/controls",
            "_view_module_version": "1.5.0",
            "_view_name": "ProgressView",
            "bar_style": "success",
            "description": "",
            "description_tooltip": null,
            "layout": "IPY_MODEL_5ed1a5eff5d545c7a879f98ff6000806",
            "max": 1,
            "min": 0,
            "orientation": "horizontal",
            "style": "IPY_MODEL_dab5f3321e48426aba3d6f4293479ffc",
            "value": 1
          }
        },
        "af91d7a1ec84456aaf2fcbb55a0ce32a": {
          "model_module": "@jupyter-widgets/controls",
          "model_name": "HTMLModel",
          "model_module_version": "1.5.0",
          "state": {
            "_dom_classes": [],
            "_model_module": "@jupyter-widgets/controls",
            "_model_module_version": "1.5.0",
            "_model_name": "HTMLModel",
            "_view_count": null,
            "_view_module": "@jupyter-widgets/controls",
            "_view_module_version": "1.5.0",
            "_view_name": "HTMLView",
            "description": "",
            "description_tooltip": null,
            "layout": "IPY_MODEL_77f761d0534b4b459e0c72296097114f",
            "placeholder": "​",
            "style": "IPY_MODEL_bfe3194840e546839e80c0de316e8ad4",
            "value": " 1/1 [00:00&lt;00:00,  1.96 file/s]"
          }
        },
        "0134e1efeae440109d13cb0f6dc2981e": {
          "model_module": "@jupyter-widgets/base",
          "model_name": "LayoutModel",
          "model_module_version": "1.2.0",
          "state": {
            "_model_module": "@jupyter-widgets/base",
            "_model_module_version": "1.2.0",
            "_model_name": "LayoutModel",
            "_view_count": null,
            "_view_module": "@jupyter-widgets/base",
            "_view_module_version": "1.2.0",
            "_view_name": "LayoutView",
            "align_content": null,
            "align_items": null,
            "align_self": null,
            "border": null,
            "bottom": null,
            "display": null,
            "flex": null,
            "flex_flow": null,
            "grid_area": null,
            "grid_auto_columns": null,
            "grid_auto_flow": null,
            "grid_auto_rows": null,
            "grid_column": null,
            "grid_gap": null,
            "grid_row": null,
            "grid_template_areas": null,
            "grid_template_columns": null,
            "grid_template_rows": null,
            "height": null,
            "justify_content": null,
            "justify_items": null,
            "left": null,
            "margin": null,
            "max_height": null,
            "max_width": null,
            "min_height": null,
            "min_width": null,
            "object_fit": null,
            "object_position": null,
            "order": null,
            "overflow": null,
            "overflow_x": null,
            "overflow_y": null,
            "padding": null,
            "right": null,
            "top": null,
            "visibility": null,
            "width": null
          }
        },
        "1c7e19e77eeb4d87b73ac7c5a3843abf": {
          "model_module": "@jupyter-widgets/base",
          "model_name": "LayoutModel",
          "model_module_version": "1.2.0",
          "state": {
            "_model_module": "@jupyter-widgets/base",
            "_model_module_version": "1.2.0",
            "_model_name": "LayoutModel",
            "_view_count": null,
            "_view_module": "@jupyter-widgets/base",
            "_view_module_version": "1.2.0",
            "_view_name": "LayoutView",
            "align_content": null,
            "align_items": null,
            "align_self": null,
            "border": null,
            "bottom": null,
            "display": null,
            "flex": null,
            "flex_flow": null,
            "grid_area": null,
            "grid_auto_columns": null,
            "grid_auto_flow": null,
            "grid_auto_rows": null,
            "grid_column": null,
            "grid_gap": null,
            "grid_row": null,
            "grid_template_areas": null,
            "grid_template_columns": null,
            "grid_template_rows": null,
            "height": null,
            "justify_content": null,
            "justify_items": null,
            "left": null,
            "margin": null,
            "max_height": null,
            "max_width": null,
            "min_height": null,
            "min_width": null,
            "object_fit": null,
            "object_position": null,
            "order": null,
            "overflow": null,
            "overflow_x": null,
            "overflow_y": null,
            "padding": null,
            "right": null,
            "top": null,
            "visibility": null,
            "width": null
          }
        },
        "fb919b6a5c6c4ff9bfd48c8c1978e188": {
          "model_module": "@jupyter-widgets/controls",
          "model_name": "DescriptionStyleModel",
          "model_module_version": "1.5.0",
          "state": {
            "_model_module": "@jupyter-widgets/controls",
            "_model_module_version": "1.5.0",
            "_model_name": "DescriptionStyleModel",
            "_view_count": null,
            "_view_module": "@jupyter-widgets/base",
            "_view_module_version": "1.2.0",
            "_view_name": "StyleView",
            "description_width": ""
          }
        },
        "5ed1a5eff5d545c7a879f98ff6000806": {
          "model_module": "@jupyter-widgets/base",
          "model_name": "LayoutModel",
          "model_module_version": "1.2.0",
          "state": {
            "_model_module": "@jupyter-widgets/base",
            "_model_module_version": "1.2.0",
            "_model_name": "LayoutModel",
            "_view_count": null,
            "_view_module": "@jupyter-widgets/base",
            "_view_module_version": "1.2.0",
            "_view_name": "LayoutView",
            "align_content": null,
            "align_items": null,
            "align_self": null,
            "border": null,
            "bottom": null,
            "display": null,
            "flex": null,
            "flex_flow": null,
            "grid_area": null,
            "grid_auto_columns": null,
            "grid_auto_flow": null,
            "grid_auto_rows": null,
            "grid_column": null,
            "grid_gap": null,
            "grid_row": null,
            "grid_template_areas": null,
            "grid_template_columns": null,
            "grid_template_rows": null,
            "height": null,
            "justify_content": null,
            "justify_items": null,
            "left": null,
            "margin": null,
            "max_height": null,
            "max_width": null,
            "min_height": null,
            "min_width": null,
            "object_fit": null,
            "object_position": null,
            "order": null,
            "overflow": null,
            "overflow_x": null,
            "overflow_y": null,
            "padding": null,
            "right": null,
            "top": null,
            "visibility": null,
            "width": "20px"
          }
        },
        "dab5f3321e48426aba3d6f4293479ffc": {
          "model_module": "@jupyter-widgets/controls",
          "model_name": "ProgressStyleModel",
          "model_module_version": "1.5.0",
          "state": {
            "_model_module": "@jupyter-widgets/controls",
            "_model_module_version": "1.5.0",
            "_model_name": "ProgressStyleModel",
            "_view_count": null,
            "_view_module": "@jupyter-widgets/base",
            "_view_module_version": "1.2.0",
            "_view_name": "StyleView",
            "bar_color": null,
            "description_width": ""
          }
        },
        "77f761d0534b4b459e0c72296097114f": {
          "model_module": "@jupyter-widgets/base",
          "model_name": "LayoutModel",
          "model_module_version": "1.2.0",
          "state": {
            "_model_module": "@jupyter-widgets/base",
            "_model_module_version": "1.2.0",
            "_model_name": "LayoutModel",
            "_view_count": null,
            "_view_module": "@jupyter-widgets/base",
            "_view_module_version": "1.2.0",
            "_view_name": "LayoutView",
            "align_content": null,
            "align_items": null,
            "align_self": null,
            "border": null,
            "bottom": null,
            "display": null,
            "flex": null,
            "flex_flow": null,
            "grid_area": null,
            "grid_auto_columns": null,
            "grid_auto_flow": null,
            "grid_auto_rows": null,
            "grid_column": null,
            "grid_gap": null,
            "grid_row": null,
            "grid_template_areas": null,
            "grid_template_columns": null,
            "grid_template_rows": null,
            "height": null,
            "justify_content": null,
            "justify_items": null,
            "left": null,
            "margin": null,
            "max_height": null,
            "max_width": null,
            "min_height": null,
            "min_width": null,
            "object_fit": null,
            "object_position": null,
            "order": null,
            "overflow": null,
            "overflow_x": null,
            "overflow_y": null,
            "padding": null,
            "right": null,
            "top": null,
            "visibility": null,
            "width": null
          }
        },
        "bfe3194840e546839e80c0de316e8ad4": {
          "model_module": "@jupyter-widgets/controls",
          "model_name": "DescriptionStyleModel",
          "model_module_version": "1.5.0",
          "state": {
            "_model_module": "@jupyter-widgets/controls",
            "_model_module_version": "1.5.0",
            "_model_name": "DescriptionStyleModel",
            "_view_count": null,
            "_view_module": "@jupyter-widgets/base",
            "_view_module_version": "1.2.0",
            "_view_name": "StyleView",
            "description_width": ""
          }
        },
        "3f897ec14a3b44729f3be173b0c49459": {
          "model_module": "@jupyter-widgets/controls",
          "model_name": "HBoxModel",
          "model_module_version": "1.5.0",
          "state": {
            "_dom_classes": [],
            "_model_module": "@jupyter-widgets/controls",
            "_model_module_version": "1.5.0",
            "_model_name": "HBoxModel",
            "_view_count": null,
            "_view_module": "@jupyter-widgets/controls",
            "_view_module_version": "1.5.0",
            "_view_name": "HBoxView",
            "box_style": "",
            "children": [
              "IPY_MODEL_aa15870d24084c339e8fb2324d1066da",
              "IPY_MODEL_c2421a4d76984c5ca013aa5745d677b0",
              "IPY_MODEL_0380616939984a5aab8653fb3ebfd953"
            ],
            "layout": "IPY_MODEL_b36bfae43fa4487c9775b072f3ef7a0b"
          }
        },
        "aa15870d24084c339e8fb2324d1066da": {
          "model_module": "@jupyter-widgets/controls",
          "model_name": "HTMLModel",
          "model_module_version": "1.5.0",
          "state": {
            "_dom_classes": [],
            "_model_module": "@jupyter-widgets/controls",
            "_model_module_version": "1.5.0",
            "_model_name": "HTMLModel",
            "_view_count": null,
            "_view_module": "@jupyter-widgets/controls",
            "_view_module_version": "1.5.0",
            "_view_name": "HTMLView",
            "description": "",
            "description_tooltip": null,
            "layout": "IPY_MODEL_8107b181d1864c6f8e857cd47766ffcd",
            "placeholder": "​",
            "style": "IPY_MODEL_5856a92a4e33464394df3ecd44a3d6b9",
            "value": ""
          }
        },
        "c2421a4d76984c5ca013aa5745d677b0": {
          "model_module": "@jupyter-widgets/controls",
          "model_name": "FloatProgressModel",
          "model_module_version": "1.5.0",
          "state": {
            "_dom_classes": [],
            "_model_module": "@jupyter-widgets/controls",
            "_model_module_version": "1.5.0",
            "_model_name": "FloatProgressModel",
            "_view_count": null,
            "_view_module": "@jupyter-widgets/controls",
            "_view_module_version": "1.5.0",
            "_view_name": "ProgressView",
            "bar_style": "info",
            "description": "",
            "description_tooltip": null,
            "layout": "IPY_MODEL_fc256f34522d4133a60365e293050e8a",
            "max": 1,
            "min": 0,
            "orientation": "horizontal",
            "style": "IPY_MODEL_472f73c7a3ed4896887ff53a58ba04ff",
            "value": 1
          }
        },
        "0380616939984a5aab8653fb3ebfd953": {
          "model_module": "@jupyter-widgets/controls",
          "model_name": "HTMLModel",
          "model_module_version": "1.5.0",
          "state": {
            "_dom_classes": [],
            "_model_module": "@jupyter-widgets/controls",
            "_model_module_version": "1.5.0",
            "_model_name": "HTMLModel",
            "_view_count": null,
            "_view_module": "@jupyter-widgets/controls",
            "_view_module_version": "1.5.0",
            "_view_name": "HTMLView",
            "description": "",
            "description_tooltip": null,
            "layout": "IPY_MODEL_51f7864c51364f39ba9370c65f5b6e85",
            "placeholder": "​",
            "style": "IPY_MODEL_2a73f380a60a46af99031d3a1253a9c6",
            "value": " 119761/0 [00:32&lt;00:00, 3244.30 examples/s]"
          }
        },
        "b36bfae43fa4487c9775b072f3ef7a0b": {
          "model_module": "@jupyter-widgets/base",
          "model_name": "LayoutModel",
          "model_module_version": "1.2.0",
          "state": {
            "_model_module": "@jupyter-widgets/base",
            "_model_module_version": "1.2.0",
            "_model_name": "LayoutModel",
            "_view_count": null,
            "_view_module": "@jupyter-widgets/base",
            "_view_module_version": "1.2.0",
            "_view_name": "LayoutView",
            "align_content": null,
            "align_items": null,
            "align_self": null,
            "border": null,
            "bottom": null,
            "display": null,
            "flex": null,
            "flex_flow": null,
            "grid_area": null,
            "grid_auto_columns": null,
            "grid_auto_flow": null,
            "grid_auto_rows": null,
            "grid_column": null,
            "grid_gap": null,
            "grid_row": null,
            "grid_template_areas": null,
            "grid_template_columns": null,
            "grid_template_rows": null,
            "height": null,
            "justify_content": null,
            "justify_items": null,
            "left": null,
            "margin": null,
            "max_height": null,
            "max_width": null,
            "min_height": null,
            "min_width": null,
            "object_fit": null,
            "object_position": null,
            "order": null,
            "overflow": null,
            "overflow_x": null,
            "overflow_y": null,
            "padding": null,
            "right": null,
            "top": null,
            "visibility": null,
            "width": null
          }
        },
        "8107b181d1864c6f8e857cd47766ffcd": {
          "model_module": "@jupyter-widgets/base",
          "model_name": "LayoutModel",
          "model_module_version": "1.2.0",
          "state": {
            "_model_module": "@jupyter-widgets/base",
            "_model_module_version": "1.2.0",
            "_model_name": "LayoutModel",
            "_view_count": null,
            "_view_module": "@jupyter-widgets/base",
            "_view_module_version": "1.2.0",
            "_view_name": "LayoutView",
            "align_content": null,
            "align_items": null,
            "align_self": null,
            "border": null,
            "bottom": null,
            "display": null,
            "flex": null,
            "flex_flow": null,
            "grid_area": null,
            "grid_auto_columns": null,
            "grid_auto_flow": null,
            "grid_auto_rows": null,
            "grid_column": null,
            "grid_gap": null,
            "grid_row": null,
            "grid_template_areas": null,
            "grid_template_columns": null,
            "grid_template_rows": null,
            "height": null,
            "justify_content": null,
            "justify_items": null,
            "left": null,
            "margin": null,
            "max_height": null,
            "max_width": null,
            "min_height": null,
            "min_width": null,
            "object_fit": null,
            "object_position": null,
            "order": null,
            "overflow": null,
            "overflow_x": null,
            "overflow_y": null,
            "padding": null,
            "right": null,
            "top": null,
            "visibility": null,
            "width": null
          }
        },
        "5856a92a4e33464394df3ecd44a3d6b9": {
          "model_module": "@jupyter-widgets/controls",
          "model_name": "DescriptionStyleModel",
          "model_module_version": "1.5.0",
          "state": {
            "_model_module": "@jupyter-widgets/controls",
            "_model_module_version": "1.5.0",
            "_model_name": "DescriptionStyleModel",
            "_view_count": null,
            "_view_module": "@jupyter-widgets/base",
            "_view_module_version": "1.2.0",
            "_view_name": "StyleView",
            "description_width": ""
          }
        },
        "fc256f34522d4133a60365e293050e8a": {
          "model_module": "@jupyter-widgets/base",
          "model_name": "LayoutModel",
          "model_module_version": "1.2.0",
          "state": {
            "_model_module": "@jupyter-widgets/base",
            "_model_module_version": "1.2.0",
            "_model_name": "LayoutModel",
            "_view_count": null,
            "_view_module": "@jupyter-widgets/base",
            "_view_module_version": "1.2.0",
            "_view_name": "LayoutView",
            "align_content": null,
            "align_items": null,
            "align_self": null,
            "border": null,
            "bottom": null,
            "display": null,
            "flex": null,
            "flex_flow": null,
            "grid_area": null,
            "grid_auto_columns": null,
            "grid_auto_flow": null,
            "grid_auto_rows": null,
            "grid_column": null,
            "grid_gap": null,
            "grid_row": null,
            "grid_template_areas": null,
            "grid_template_columns": null,
            "grid_template_rows": null,
            "height": null,
            "justify_content": null,
            "justify_items": null,
            "left": null,
            "margin": null,
            "max_height": null,
            "max_width": null,
            "min_height": null,
            "min_width": null,
            "object_fit": null,
            "object_position": null,
            "order": null,
            "overflow": null,
            "overflow_x": null,
            "overflow_y": null,
            "padding": null,
            "right": null,
            "top": null,
            "visibility": null,
            "width": "20px"
          }
        },
        "472f73c7a3ed4896887ff53a58ba04ff": {
          "model_module": "@jupyter-widgets/controls",
          "model_name": "ProgressStyleModel",
          "model_module_version": "1.5.0",
          "state": {
            "_model_module": "@jupyter-widgets/controls",
            "_model_module_version": "1.5.0",
            "_model_name": "ProgressStyleModel",
            "_view_count": null,
            "_view_module": "@jupyter-widgets/base",
            "_view_module_version": "1.2.0",
            "_view_name": "StyleView",
            "bar_color": null,
            "description_width": ""
          }
        },
        "51f7864c51364f39ba9370c65f5b6e85": {
          "model_module": "@jupyter-widgets/base",
          "model_name": "LayoutModel",
          "model_module_version": "1.2.0",
          "state": {
            "_model_module": "@jupyter-widgets/base",
            "_model_module_version": "1.2.0",
            "_model_name": "LayoutModel",
            "_view_count": null,
            "_view_module": "@jupyter-widgets/base",
            "_view_module_version": "1.2.0",
            "_view_name": "LayoutView",
            "align_content": null,
            "align_items": null,
            "align_self": null,
            "border": null,
            "bottom": null,
            "display": null,
            "flex": null,
            "flex_flow": null,
            "grid_area": null,
            "grid_auto_columns": null,
            "grid_auto_flow": null,
            "grid_auto_rows": null,
            "grid_column": null,
            "grid_gap": null,
            "grid_row": null,
            "grid_template_areas": null,
            "grid_template_columns": null,
            "grid_template_rows": null,
            "height": null,
            "justify_content": null,
            "justify_items": null,
            "left": null,
            "margin": null,
            "max_height": null,
            "max_width": null,
            "min_height": null,
            "min_width": null,
            "object_fit": null,
            "object_position": null,
            "order": null,
            "overflow": null,
            "overflow_x": null,
            "overflow_y": null,
            "padding": null,
            "right": null,
            "top": null,
            "visibility": null,
            "width": null
          }
        },
        "2a73f380a60a46af99031d3a1253a9c6": {
          "model_module": "@jupyter-widgets/controls",
          "model_name": "DescriptionStyleModel",
          "model_module_version": "1.5.0",
          "state": {
            "_model_module": "@jupyter-widgets/controls",
            "_model_module_version": "1.5.0",
            "_model_name": "DescriptionStyleModel",
            "_view_count": null,
            "_view_module": "@jupyter-widgets/base",
            "_view_module_version": "1.2.0",
            "_view_name": "StyleView",
            "description_width": ""
          }
        },
        "310f77438918439e8487cc26d4079f0e": {
          "model_module": "@jupyter-widgets/controls",
          "model_name": "HBoxModel",
          "model_module_version": "1.5.0",
          "state": {
            "_dom_classes": [],
            "_model_module": "@jupyter-widgets/controls",
            "_model_module_version": "1.5.0",
            "_model_name": "HBoxModel",
            "_view_count": null,
            "_view_module": "@jupyter-widgets/controls",
            "_view_module_version": "1.5.0",
            "_view_name": "HBoxView",
            "box_style": "",
            "children": [
              "IPY_MODEL_dc4bc7c9262f41788e4f3c6e973bcd71",
              "IPY_MODEL_65f6483708514673a4f203e2c1a9c54e",
              "IPY_MODEL_bc83d488d6fa47fa8784875112873628"
            ],
            "layout": "IPY_MODEL_bdcb88dc3db843d8b426f2448491767b"
          }
        },
        "dc4bc7c9262f41788e4f3c6e973bcd71": {
          "model_module": "@jupyter-widgets/controls",
          "model_name": "HTMLModel",
          "model_module_version": "1.5.0",
          "state": {
            "_dom_classes": [],
            "_model_module": "@jupyter-widgets/controls",
            "_model_module_version": "1.5.0",
            "_model_name": "HTMLModel",
            "_view_count": null,
            "_view_module": "@jupyter-widgets/controls",
            "_view_module_version": "1.5.0",
            "_view_name": "HTMLView",
            "description": "",
            "description_tooltip": null,
            "layout": "IPY_MODEL_3ca78e4ac7bd4c01a312c3a42b52af0a",
            "placeholder": "​",
            "style": "IPY_MODEL_7fcb3a70ee0b47d690cc2ef9bce72619",
            "value": "100%"
          }
        },
        "65f6483708514673a4f203e2c1a9c54e": {
          "model_module": "@jupyter-widgets/controls",
          "model_name": "FloatProgressModel",
          "model_module_version": "1.5.0",
          "state": {
            "_dom_classes": [],
            "_model_module": "@jupyter-widgets/controls",
            "_model_module_version": "1.5.0",
            "_model_name": "FloatProgressModel",
            "_view_count": null,
            "_view_module": "@jupyter-widgets/controls",
            "_view_module_version": "1.5.0",
            "_view_name": "ProgressView",
            "bar_style": "danger",
            "description": "",
            "description_tooltip": null,
            "layout": "IPY_MODEL_ba71d4edfade4acb9755b7db3a6bc5a8",
            "max": 120000,
            "min": 0,
            "orientation": "horizontal",
            "style": "IPY_MODEL_8272734053764f6a955fc4759b23d32b",
            "value": 119999
          }
        },
        "bc83d488d6fa47fa8784875112873628": {
          "model_module": "@jupyter-widgets/controls",
          "model_name": "HTMLModel",
          "model_module_version": "1.5.0",
          "state": {
            "_dom_classes": [],
            "_model_module": "@jupyter-widgets/controls",
            "_model_module_version": "1.5.0",
            "_model_name": "HTMLModel",
            "_view_count": null,
            "_view_module": "@jupyter-widgets/controls",
            "_view_module_version": "1.5.0",
            "_view_name": "HTMLView",
            "description": "",
            "description_tooltip": null,
            "layout": "IPY_MODEL_2dcf1a4779b04cfa9c7a71b8ed5d00dd",
            "placeholder": "​",
            "style": "IPY_MODEL_ebdf9ac6b43146abb0774c26ac09b64e",
            "value": " 119999/120000 [00:00&lt;00:00, 254009.40 examples/s]"
          }
        },
        "bdcb88dc3db843d8b426f2448491767b": {
          "model_module": "@jupyter-widgets/base",
          "model_name": "LayoutModel",
          "model_module_version": "1.2.0",
          "state": {
            "_model_module": "@jupyter-widgets/base",
            "_model_module_version": "1.2.0",
            "_model_name": "LayoutModel",
            "_view_count": null,
            "_view_module": "@jupyter-widgets/base",
            "_view_module_version": "1.2.0",
            "_view_name": "LayoutView",
            "align_content": null,
            "align_items": null,
            "align_self": null,
            "border": null,
            "bottom": null,
            "display": null,
            "flex": null,
            "flex_flow": null,
            "grid_area": null,
            "grid_auto_columns": null,
            "grid_auto_flow": null,
            "grid_auto_rows": null,
            "grid_column": null,
            "grid_gap": null,
            "grid_row": null,
            "grid_template_areas": null,
            "grid_template_columns": null,
            "grid_template_rows": null,
            "height": null,
            "justify_content": null,
            "justify_items": null,
            "left": null,
            "margin": null,
            "max_height": null,
            "max_width": null,
            "min_height": null,
            "min_width": null,
            "object_fit": null,
            "object_position": null,
            "order": null,
            "overflow": null,
            "overflow_x": null,
            "overflow_y": null,
            "padding": null,
            "right": null,
            "top": null,
            "visibility": null,
            "width": null
          }
        },
        "3ca78e4ac7bd4c01a312c3a42b52af0a": {
          "model_module": "@jupyter-widgets/base",
          "model_name": "LayoutModel",
          "model_module_version": "1.2.0",
          "state": {
            "_model_module": "@jupyter-widgets/base",
            "_model_module_version": "1.2.0",
            "_model_name": "LayoutModel",
            "_view_count": null,
            "_view_module": "@jupyter-widgets/base",
            "_view_module_version": "1.2.0",
            "_view_name": "LayoutView",
            "align_content": null,
            "align_items": null,
            "align_self": null,
            "border": null,
            "bottom": null,
            "display": null,
            "flex": null,
            "flex_flow": null,
            "grid_area": null,
            "grid_auto_columns": null,
            "grid_auto_flow": null,
            "grid_auto_rows": null,
            "grid_column": null,
            "grid_gap": null,
            "grid_row": null,
            "grid_template_areas": null,
            "grid_template_columns": null,
            "grid_template_rows": null,
            "height": null,
            "justify_content": null,
            "justify_items": null,
            "left": null,
            "margin": null,
            "max_height": null,
            "max_width": null,
            "min_height": null,
            "min_width": null,
            "object_fit": null,
            "object_position": null,
            "order": null,
            "overflow": null,
            "overflow_x": null,
            "overflow_y": null,
            "padding": null,
            "right": null,
            "top": null,
            "visibility": null,
            "width": null
          }
        },
        "7fcb3a70ee0b47d690cc2ef9bce72619": {
          "model_module": "@jupyter-widgets/controls",
          "model_name": "DescriptionStyleModel",
          "model_module_version": "1.5.0",
          "state": {
            "_model_module": "@jupyter-widgets/controls",
            "_model_module_version": "1.5.0",
            "_model_name": "DescriptionStyleModel",
            "_view_count": null,
            "_view_module": "@jupyter-widgets/base",
            "_view_module_version": "1.2.0",
            "_view_name": "StyleView",
            "description_width": ""
          }
        },
        "ba71d4edfade4acb9755b7db3a6bc5a8": {
          "model_module": "@jupyter-widgets/base",
          "model_name": "LayoutModel",
          "model_module_version": "1.2.0",
          "state": {
            "_model_module": "@jupyter-widgets/base",
            "_model_module_version": "1.2.0",
            "_model_name": "LayoutModel",
            "_view_count": null,
            "_view_module": "@jupyter-widgets/base",
            "_view_module_version": "1.2.0",
            "_view_name": "LayoutView",
            "align_content": null,
            "align_items": null,
            "align_self": null,
            "border": null,
            "bottom": null,
            "display": null,
            "flex": null,
            "flex_flow": null,
            "grid_area": null,
            "grid_auto_columns": null,
            "grid_auto_flow": null,
            "grid_auto_rows": null,
            "grid_column": null,
            "grid_gap": null,
            "grid_row": null,
            "grid_template_areas": null,
            "grid_template_columns": null,
            "grid_template_rows": null,
            "height": null,
            "justify_content": null,
            "justify_items": null,
            "left": null,
            "margin": null,
            "max_height": null,
            "max_width": null,
            "min_height": null,
            "min_width": null,
            "object_fit": null,
            "object_position": null,
            "order": null,
            "overflow": null,
            "overflow_x": null,
            "overflow_y": null,
            "padding": null,
            "right": null,
            "top": null,
            "visibility": null,
            "width": null
          }
        },
        "8272734053764f6a955fc4759b23d32b": {
          "model_module": "@jupyter-widgets/controls",
          "model_name": "ProgressStyleModel",
          "model_module_version": "1.5.0",
          "state": {
            "_model_module": "@jupyter-widgets/controls",
            "_model_module_version": "1.5.0",
            "_model_name": "ProgressStyleModel",
            "_view_count": null,
            "_view_module": "@jupyter-widgets/base",
            "_view_module_version": "1.2.0",
            "_view_name": "StyleView",
            "bar_color": null,
            "description_width": ""
          }
        },
        "2dcf1a4779b04cfa9c7a71b8ed5d00dd": {
          "model_module": "@jupyter-widgets/base",
          "model_name": "LayoutModel",
          "model_module_version": "1.2.0",
          "state": {
            "_model_module": "@jupyter-widgets/base",
            "_model_module_version": "1.2.0",
            "_model_name": "LayoutModel",
            "_view_count": null,
            "_view_module": "@jupyter-widgets/base",
            "_view_module_version": "1.2.0",
            "_view_name": "LayoutView",
            "align_content": null,
            "align_items": null,
            "align_self": null,
            "border": null,
            "bottom": null,
            "display": null,
            "flex": null,
            "flex_flow": null,
            "grid_area": null,
            "grid_auto_columns": null,
            "grid_auto_flow": null,
            "grid_auto_rows": null,
            "grid_column": null,
            "grid_gap": null,
            "grid_row": null,
            "grid_template_areas": null,
            "grid_template_columns": null,
            "grid_template_rows": null,
            "height": null,
            "justify_content": null,
            "justify_items": null,
            "left": null,
            "margin": null,
            "max_height": null,
            "max_width": null,
            "min_height": null,
            "min_width": null,
            "object_fit": null,
            "object_position": null,
            "order": null,
            "overflow": null,
            "overflow_x": null,
            "overflow_y": null,
            "padding": null,
            "right": null,
            "top": null,
            "visibility": null,
            "width": null
          }
        },
        "ebdf9ac6b43146abb0774c26ac09b64e": {
          "model_module": "@jupyter-widgets/controls",
          "model_name": "DescriptionStyleModel",
          "model_module_version": "1.5.0",
          "state": {
            "_model_module": "@jupyter-widgets/controls",
            "_model_module_version": "1.5.0",
            "_model_name": "DescriptionStyleModel",
            "_view_count": null,
            "_view_module": "@jupyter-widgets/base",
            "_view_module_version": "1.2.0",
            "_view_name": "StyleView",
            "description_width": ""
          }
        },
        "5b9846c683154b3aa53a6e92eb6b075b": {
          "model_module": "@jupyter-widgets/controls",
          "model_name": "HBoxModel",
          "model_module_version": "1.5.0",
          "state": {
            "_dom_classes": [],
            "_model_module": "@jupyter-widgets/controls",
            "_model_module_version": "1.5.0",
            "_model_name": "HBoxModel",
            "_view_count": null,
            "_view_module": "@jupyter-widgets/controls",
            "_view_module_version": "1.5.0",
            "_view_name": "HBoxView",
            "box_style": "",
            "children": [
              "IPY_MODEL_38c128ab900c4094b55ab99e99ce6b35",
              "IPY_MODEL_069bce87bec043589a0fbd836e52adef",
              "IPY_MODEL_41317dc753114e03ada7c9e8aadb4dfb"
            ],
            "layout": "IPY_MODEL_f1d82b8b563e4081a6966b7e81af2041"
          }
        },
        "38c128ab900c4094b55ab99e99ce6b35": {
          "model_module": "@jupyter-widgets/controls",
          "model_name": "HTMLModel",
          "model_module_version": "1.5.0",
          "state": {
            "_dom_classes": [],
            "_model_module": "@jupyter-widgets/controls",
            "_model_module_version": "1.5.0",
            "_model_name": "HTMLModel",
            "_view_count": null,
            "_view_module": "@jupyter-widgets/controls",
            "_view_module_version": "1.5.0",
            "_view_name": "HTMLView",
            "description": "",
            "description_tooltip": null,
            "layout": "IPY_MODEL_2a44e85ad4bd488bbe903cf5bcfbdeb9",
            "placeholder": "​",
            "style": "IPY_MODEL_c084f4b2db7f42d3816a5932fbc6ed0b",
            "value": ""
          }
        },
        "069bce87bec043589a0fbd836e52adef": {
          "model_module": "@jupyter-widgets/controls",
          "model_name": "FloatProgressModel",
          "model_module_version": "1.5.0",
          "state": {
            "_dom_classes": [],
            "_model_module": "@jupyter-widgets/controls",
            "_model_module_version": "1.5.0",
            "_model_name": "FloatProgressModel",
            "_view_count": null,
            "_view_module": "@jupyter-widgets/controls",
            "_view_module_version": "1.5.0",
            "_view_name": "ProgressView",
            "bar_style": "info",
            "description": "",
            "description_tooltip": null,
            "layout": "IPY_MODEL_609393bf5b81476a8bb42a0481426f78",
            "max": 1,
            "min": 0,
            "orientation": "horizontal",
            "style": "IPY_MODEL_6f5d7caea25948198a37b1b1d5b85ac6",
            "value": 1
          }
        },
        "41317dc753114e03ada7c9e8aadb4dfb": {
          "model_module": "@jupyter-widgets/controls",
          "model_name": "HTMLModel",
          "model_module_version": "1.5.0",
          "state": {
            "_dom_classes": [],
            "_model_module": "@jupyter-widgets/controls",
            "_model_module_version": "1.5.0",
            "_model_name": "HTMLModel",
            "_view_count": null,
            "_view_module": "@jupyter-widgets/controls",
            "_view_module_version": "1.5.0",
            "_view_name": "HTMLView",
            "description": "",
            "description_tooltip": null,
            "layout": "IPY_MODEL_af6d055ddec44fa2ba5cd750207c1bfd",
            "placeholder": "​",
            "style": "IPY_MODEL_b04543f411424c3badffba9963142104",
            "value": " 7485/0 [00:02&lt;00:00, 4353.28 examples/s]"
          }
        },
        "f1d82b8b563e4081a6966b7e81af2041": {
          "model_module": "@jupyter-widgets/base",
          "model_name": "LayoutModel",
          "model_module_version": "1.2.0",
          "state": {
            "_model_module": "@jupyter-widgets/base",
            "_model_module_version": "1.2.0",
            "_model_name": "LayoutModel",
            "_view_count": null,
            "_view_module": "@jupyter-widgets/base",
            "_view_module_version": "1.2.0",
            "_view_name": "LayoutView",
            "align_content": null,
            "align_items": null,
            "align_self": null,
            "border": null,
            "bottom": null,
            "display": null,
            "flex": null,
            "flex_flow": null,
            "grid_area": null,
            "grid_auto_columns": null,
            "grid_auto_flow": null,
            "grid_auto_rows": null,
            "grid_column": null,
            "grid_gap": null,
            "grid_row": null,
            "grid_template_areas": null,
            "grid_template_columns": null,
            "grid_template_rows": null,
            "height": null,
            "justify_content": null,
            "justify_items": null,
            "left": null,
            "margin": null,
            "max_height": null,
            "max_width": null,
            "min_height": null,
            "min_width": null,
            "object_fit": null,
            "object_position": null,
            "order": null,
            "overflow": null,
            "overflow_x": null,
            "overflow_y": null,
            "padding": null,
            "right": null,
            "top": null,
            "visibility": null,
            "width": null
          }
        },
        "2a44e85ad4bd488bbe903cf5bcfbdeb9": {
          "model_module": "@jupyter-widgets/base",
          "model_name": "LayoutModel",
          "model_module_version": "1.2.0",
          "state": {
            "_model_module": "@jupyter-widgets/base",
            "_model_module_version": "1.2.0",
            "_model_name": "LayoutModel",
            "_view_count": null,
            "_view_module": "@jupyter-widgets/base",
            "_view_module_version": "1.2.0",
            "_view_name": "LayoutView",
            "align_content": null,
            "align_items": null,
            "align_self": null,
            "border": null,
            "bottom": null,
            "display": null,
            "flex": null,
            "flex_flow": null,
            "grid_area": null,
            "grid_auto_columns": null,
            "grid_auto_flow": null,
            "grid_auto_rows": null,
            "grid_column": null,
            "grid_gap": null,
            "grid_row": null,
            "grid_template_areas": null,
            "grid_template_columns": null,
            "grid_template_rows": null,
            "height": null,
            "justify_content": null,
            "justify_items": null,
            "left": null,
            "margin": null,
            "max_height": null,
            "max_width": null,
            "min_height": null,
            "min_width": null,
            "object_fit": null,
            "object_position": null,
            "order": null,
            "overflow": null,
            "overflow_x": null,
            "overflow_y": null,
            "padding": null,
            "right": null,
            "top": null,
            "visibility": null,
            "width": null
          }
        },
        "c084f4b2db7f42d3816a5932fbc6ed0b": {
          "model_module": "@jupyter-widgets/controls",
          "model_name": "DescriptionStyleModel",
          "model_module_version": "1.5.0",
          "state": {
            "_model_module": "@jupyter-widgets/controls",
            "_model_module_version": "1.5.0",
            "_model_name": "DescriptionStyleModel",
            "_view_count": null,
            "_view_module": "@jupyter-widgets/base",
            "_view_module_version": "1.2.0",
            "_view_name": "StyleView",
            "description_width": ""
          }
        },
        "609393bf5b81476a8bb42a0481426f78": {
          "model_module": "@jupyter-widgets/base",
          "model_name": "LayoutModel",
          "model_module_version": "1.2.0",
          "state": {
            "_model_module": "@jupyter-widgets/base",
            "_model_module_version": "1.2.0",
            "_model_name": "LayoutModel",
            "_view_count": null,
            "_view_module": "@jupyter-widgets/base",
            "_view_module_version": "1.2.0",
            "_view_name": "LayoutView",
            "align_content": null,
            "align_items": null,
            "align_self": null,
            "border": null,
            "bottom": null,
            "display": null,
            "flex": null,
            "flex_flow": null,
            "grid_area": null,
            "grid_auto_columns": null,
            "grid_auto_flow": null,
            "grid_auto_rows": null,
            "grid_column": null,
            "grid_gap": null,
            "grid_row": null,
            "grid_template_areas": null,
            "grid_template_columns": null,
            "grid_template_rows": null,
            "height": null,
            "justify_content": null,
            "justify_items": null,
            "left": null,
            "margin": null,
            "max_height": null,
            "max_width": null,
            "min_height": null,
            "min_width": null,
            "object_fit": null,
            "object_position": null,
            "order": null,
            "overflow": null,
            "overflow_x": null,
            "overflow_y": null,
            "padding": null,
            "right": null,
            "top": null,
            "visibility": null,
            "width": "20px"
          }
        },
        "6f5d7caea25948198a37b1b1d5b85ac6": {
          "model_module": "@jupyter-widgets/controls",
          "model_name": "ProgressStyleModel",
          "model_module_version": "1.5.0",
          "state": {
            "_model_module": "@jupyter-widgets/controls",
            "_model_module_version": "1.5.0",
            "_model_name": "ProgressStyleModel",
            "_view_count": null,
            "_view_module": "@jupyter-widgets/base",
            "_view_module_version": "1.2.0",
            "_view_name": "StyleView",
            "bar_color": null,
            "description_width": ""
          }
        },
        "af6d055ddec44fa2ba5cd750207c1bfd": {
          "model_module": "@jupyter-widgets/base",
          "model_name": "LayoutModel",
          "model_module_version": "1.2.0",
          "state": {
            "_model_module": "@jupyter-widgets/base",
            "_model_module_version": "1.2.0",
            "_model_name": "LayoutModel",
            "_view_count": null,
            "_view_module": "@jupyter-widgets/base",
            "_view_module_version": "1.2.0",
            "_view_name": "LayoutView",
            "align_content": null,
            "align_items": null,
            "align_self": null,
            "border": null,
            "bottom": null,
            "display": null,
            "flex": null,
            "flex_flow": null,
            "grid_area": null,
            "grid_auto_columns": null,
            "grid_auto_flow": null,
            "grid_auto_rows": null,
            "grid_column": null,
            "grid_gap": null,
            "grid_row": null,
            "grid_template_areas": null,
            "grid_template_columns": null,
            "grid_template_rows": null,
            "height": null,
            "justify_content": null,
            "justify_items": null,
            "left": null,
            "margin": null,
            "max_height": null,
            "max_width": null,
            "min_height": null,
            "min_width": null,
            "object_fit": null,
            "object_position": null,
            "order": null,
            "overflow": null,
            "overflow_x": null,
            "overflow_y": null,
            "padding": null,
            "right": null,
            "top": null,
            "visibility": null,
            "width": null
          }
        },
        "b04543f411424c3badffba9963142104": {
          "model_module": "@jupyter-widgets/controls",
          "model_name": "DescriptionStyleModel",
          "model_module_version": "1.5.0",
          "state": {
            "_model_module": "@jupyter-widgets/controls",
            "_model_module_version": "1.5.0",
            "_model_name": "DescriptionStyleModel",
            "_view_count": null,
            "_view_module": "@jupyter-widgets/base",
            "_view_module_version": "1.2.0",
            "_view_name": "StyleView",
            "description_width": ""
          }
        },
        "65e7879694ed4a549ff9714a478e1f38": {
          "model_module": "@jupyter-widgets/controls",
          "model_name": "HBoxModel",
          "model_module_version": "1.5.0",
          "state": {
            "_dom_classes": [],
            "_model_module": "@jupyter-widgets/controls",
            "_model_module_version": "1.5.0",
            "_model_name": "HBoxModel",
            "_view_count": null,
            "_view_module": "@jupyter-widgets/controls",
            "_view_module_version": "1.5.0",
            "_view_name": "HBoxView",
            "box_style": "",
            "children": [
              "IPY_MODEL_fba6b455089b4dab926aade77337a2d2",
              "IPY_MODEL_bbc8b28137c6478390753335f8f5b21b",
              "IPY_MODEL_c894c92e381b49de9ee115138195ee2d"
            ],
            "layout": "IPY_MODEL_15fb830f8e1d41888f4ba450f8178627"
          }
        },
        "fba6b455089b4dab926aade77337a2d2": {
          "model_module": "@jupyter-widgets/controls",
          "model_name": "HTMLModel",
          "model_module_version": "1.5.0",
          "state": {
            "_dom_classes": [],
            "_model_module": "@jupyter-widgets/controls",
            "_model_module_version": "1.5.0",
            "_model_name": "HTMLModel",
            "_view_count": null,
            "_view_module": "@jupyter-widgets/controls",
            "_view_module_version": "1.5.0",
            "_view_name": "HTMLView",
            "description": "",
            "description_tooltip": null,
            "layout": "IPY_MODEL_21dd9aed17cd44a3a9d89f8dc3a6d3f5",
            "placeholder": "​",
            "style": "IPY_MODEL_1b35571eeb8f487dae95fe0eaeee1c8e",
            "value": "100%"
          }
        },
        "bbc8b28137c6478390753335f8f5b21b": {
          "model_module": "@jupyter-widgets/controls",
          "model_name": "FloatProgressModel",
          "model_module_version": "1.5.0",
          "state": {
            "_dom_classes": [],
            "_model_module": "@jupyter-widgets/controls",
            "_model_module_version": "1.5.0",
            "_model_name": "FloatProgressModel",
            "_view_count": null,
            "_view_module": "@jupyter-widgets/controls",
            "_view_module_version": "1.5.0",
            "_view_name": "ProgressView",
            "bar_style": "danger",
            "description": "",
            "description_tooltip": null,
            "layout": "IPY_MODEL_3758e2a38efa4915ae202a21c5beef25",
            "max": 7600,
            "min": 0,
            "orientation": "horizontal",
            "style": "IPY_MODEL_f22d6fcd3871454bac86579802e36e36",
            "value": 7599
          }
        },
        "c894c92e381b49de9ee115138195ee2d": {
          "model_module": "@jupyter-widgets/controls",
          "model_name": "HTMLModel",
          "model_module_version": "1.5.0",
          "state": {
            "_dom_classes": [],
            "_model_module": "@jupyter-widgets/controls",
            "_model_module_version": "1.5.0",
            "_model_name": "HTMLModel",
            "_view_count": null,
            "_view_module": "@jupyter-widgets/controls",
            "_view_module_version": "1.5.0",
            "_view_name": "HTMLView",
            "description": "",
            "description_tooltip": null,
            "layout": "IPY_MODEL_29c035338b6d4fc9a03fc640a0e289b7",
            "placeholder": "​",
            "style": "IPY_MODEL_f5f465e5c1dd4623a4ec7cc46263335c",
            "value": " 7599/7600 [00:00&lt;00:00, 97152.76 examples/s]"
          }
        },
        "15fb830f8e1d41888f4ba450f8178627": {
          "model_module": "@jupyter-widgets/base",
          "model_name": "LayoutModel",
          "model_module_version": "1.2.0",
          "state": {
            "_model_module": "@jupyter-widgets/base",
            "_model_module_version": "1.2.0",
            "_model_name": "LayoutModel",
            "_view_count": null,
            "_view_module": "@jupyter-widgets/base",
            "_view_module_version": "1.2.0",
            "_view_name": "LayoutView",
            "align_content": null,
            "align_items": null,
            "align_self": null,
            "border": null,
            "bottom": null,
            "display": null,
            "flex": null,
            "flex_flow": null,
            "grid_area": null,
            "grid_auto_columns": null,
            "grid_auto_flow": null,
            "grid_auto_rows": null,
            "grid_column": null,
            "grid_gap": null,
            "grid_row": null,
            "grid_template_areas": null,
            "grid_template_columns": null,
            "grid_template_rows": null,
            "height": null,
            "justify_content": null,
            "justify_items": null,
            "left": null,
            "margin": null,
            "max_height": null,
            "max_width": null,
            "min_height": null,
            "min_width": null,
            "object_fit": null,
            "object_position": null,
            "order": null,
            "overflow": null,
            "overflow_x": null,
            "overflow_y": null,
            "padding": null,
            "right": null,
            "top": null,
            "visibility": null,
            "width": null
          }
        },
        "21dd9aed17cd44a3a9d89f8dc3a6d3f5": {
          "model_module": "@jupyter-widgets/base",
          "model_name": "LayoutModel",
          "model_module_version": "1.2.0",
          "state": {
            "_model_module": "@jupyter-widgets/base",
            "_model_module_version": "1.2.0",
            "_model_name": "LayoutModel",
            "_view_count": null,
            "_view_module": "@jupyter-widgets/base",
            "_view_module_version": "1.2.0",
            "_view_name": "LayoutView",
            "align_content": null,
            "align_items": null,
            "align_self": null,
            "border": null,
            "bottom": null,
            "display": null,
            "flex": null,
            "flex_flow": null,
            "grid_area": null,
            "grid_auto_columns": null,
            "grid_auto_flow": null,
            "grid_auto_rows": null,
            "grid_column": null,
            "grid_gap": null,
            "grid_row": null,
            "grid_template_areas": null,
            "grid_template_columns": null,
            "grid_template_rows": null,
            "height": null,
            "justify_content": null,
            "justify_items": null,
            "left": null,
            "margin": null,
            "max_height": null,
            "max_width": null,
            "min_height": null,
            "min_width": null,
            "object_fit": null,
            "object_position": null,
            "order": null,
            "overflow": null,
            "overflow_x": null,
            "overflow_y": null,
            "padding": null,
            "right": null,
            "top": null,
            "visibility": null,
            "width": null
          }
        },
        "1b35571eeb8f487dae95fe0eaeee1c8e": {
          "model_module": "@jupyter-widgets/controls",
          "model_name": "DescriptionStyleModel",
          "model_module_version": "1.5.0",
          "state": {
            "_model_module": "@jupyter-widgets/controls",
            "_model_module_version": "1.5.0",
            "_model_name": "DescriptionStyleModel",
            "_view_count": null,
            "_view_module": "@jupyter-widgets/base",
            "_view_module_version": "1.2.0",
            "_view_name": "StyleView",
            "description_width": ""
          }
        },
        "3758e2a38efa4915ae202a21c5beef25": {
          "model_module": "@jupyter-widgets/base",
          "model_name": "LayoutModel",
          "model_module_version": "1.2.0",
          "state": {
            "_model_module": "@jupyter-widgets/base",
            "_model_module_version": "1.2.0",
            "_model_name": "LayoutModel",
            "_view_count": null,
            "_view_module": "@jupyter-widgets/base",
            "_view_module_version": "1.2.0",
            "_view_name": "LayoutView",
            "align_content": null,
            "align_items": null,
            "align_self": null,
            "border": null,
            "bottom": null,
            "display": null,
            "flex": null,
            "flex_flow": null,
            "grid_area": null,
            "grid_auto_columns": null,
            "grid_auto_flow": null,
            "grid_auto_rows": null,
            "grid_column": null,
            "grid_gap": null,
            "grid_row": null,
            "grid_template_areas": null,
            "grid_template_columns": null,
            "grid_template_rows": null,
            "height": null,
            "justify_content": null,
            "justify_items": null,
            "left": null,
            "margin": null,
            "max_height": null,
            "max_width": null,
            "min_height": null,
            "min_width": null,
            "object_fit": null,
            "object_position": null,
            "order": null,
            "overflow": null,
            "overflow_x": null,
            "overflow_y": null,
            "padding": null,
            "right": null,
            "top": null,
            "visibility": null,
            "width": null
          }
        },
        "f22d6fcd3871454bac86579802e36e36": {
          "model_module": "@jupyter-widgets/controls",
          "model_name": "ProgressStyleModel",
          "model_module_version": "1.5.0",
          "state": {
            "_model_module": "@jupyter-widgets/controls",
            "_model_module_version": "1.5.0",
            "_model_name": "ProgressStyleModel",
            "_view_count": null,
            "_view_module": "@jupyter-widgets/base",
            "_view_module_version": "1.2.0",
            "_view_name": "StyleView",
            "bar_color": null,
            "description_width": ""
          }
        },
        "29c035338b6d4fc9a03fc640a0e289b7": {
          "model_module": "@jupyter-widgets/base",
          "model_name": "LayoutModel",
          "model_module_version": "1.2.0",
          "state": {
            "_model_module": "@jupyter-widgets/base",
            "_model_module_version": "1.2.0",
            "_model_name": "LayoutModel",
            "_view_count": null,
            "_view_module": "@jupyter-widgets/base",
            "_view_module_version": "1.2.0",
            "_view_name": "LayoutView",
            "align_content": null,
            "align_items": null,
            "align_self": null,
            "border": null,
            "bottom": null,
            "display": null,
            "flex": null,
            "flex_flow": null,
            "grid_area": null,
            "grid_auto_columns": null,
            "grid_auto_flow": null,
            "grid_auto_rows": null,
            "grid_column": null,
            "grid_gap": null,
            "grid_row": null,
            "grid_template_areas": null,
            "grid_template_columns": null,
            "grid_template_rows": null,
            "height": null,
            "justify_content": null,
            "justify_items": null,
            "left": null,
            "margin": null,
            "max_height": null,
            "max_width": null,
            "min_height": null,
            "min_width": null,
            "object_fit": null,
            "object_position": null,
            "order": null,
            "overflow": null,
            "overflow_x": null,
            "overflow_y": null,
            "padding": null,
            "right": null,
            "top": null,
            "visibility": null,
            "width": null
          }
        },
        "f5f465e5c1dd4623a4ec7cc46263335c": {
          "model_module": "@jupyter-widgets/controls",
          "model_name": "DescriptionStyleModel",
          "model_module_version": "1.5.0",
          "state": {
            "_model_module": "@jupyter-widgets/controls",
            "_model_module_version": "1.5.0",
            "_model_name": "DescriptionStyleModel",
            "_view_count": null,
            "_view_module": "@jupyter-widgets/base",
            "_view_module_version": "1.2.0",
            "_view_name": "StyleView",
            "description_width": ""
          }
        }
      }
    }
  },
  "cells": [
    {
      "cell_type": "markdown",
      "source": [
        "#**Deep Learning Homework 2: *Optimize and Train Deep Models***\n",
        "### MSc Computer Science, Data Science, Cybersecurity @UniPD\n",
        "### 2nd semester - 6 ECTS\n",
        "### Prof. Nicolò Navarin & Prof. Alessandro Sperduti\n",
        "---"
      ],
      "metadata": {
        "id": "raUKrVPW0SO1"
      }
    },
    {
      "cell_type": "markdown",
      "metadata": {
        "id": "QUc9frYnVBI_"
      },
      "source": [
        "In this homework, we will explore how to develop a simple Deep Neural Network for a classification problem. We will explore two common libraries: TensorFlow and Keras.\n",
        "Then we will explore how to face a well known problem that is common to encounter during the training phase: the Overfitting.\n",
        "Finally, we will study how to perform a fair model selection.\n",
        "Hint: Before starting the exercise take a look at how Tensorflow and Keras are designed.  https://keras.io/"
      ]
    },
    {
      "cell_type": "markdown",
      "metadata": {
        "id": "e-Nc7mFSVEiU"
      },
      "source": [
        "##Exercise 2.1: Text Classficiation with Tensorflow and Keras\n",
        "\n",
        "In this first exercise we will develop a 3 layers Neural Network to perfrom classification.\n",
        "\n",
        "Let's start importing the libraries we will need and setting a couple of environmental variables.\n"
      ]
    },
    {
      "cell_type": "code",
      "metadata": {
        "id": "bWn9FzneVqJo"
      },
      "source": [
        "import matplotlib as mpl\n",
        "import matplotlib.pyplot as plt\n",
        "import numpy as np\n",
        "import os\n",
        "import pandas as pd\n",
        "import sklearn\n",
        "import sys\n",
        "import tensorflow as tf\n",
        "from tensorflow import keras  # tf.keras\n",
        "import tensorflow_datasets as tfds\n",
        "import time\n",
        "\n",
        "import logging\n",
        "logging.disable(logging.WARNING)\n",
        "os.environ[\"TF_CPP_MIN_LOG_LEVEL\"] = \"3\" \n",
        "\n",
        "tf.random.set_seed(42)\n",
        "# os.environ['TF_DETERMINISTIC_OPS']='1'"
      ],
      "execution_count": 1,
      "outputs": []
    },
    {
      "cell_type": "markdown",
      "metadata": {
        "id": "LT2HMYDEXcx0"
      },
      "source": [
        "### Load Data: AG News Subset\n",
        "\n",
        "In this HW, we use the AG News Subset that is available in Tensorflow Dataset. The AG's news topic classification dataset is constructed by choosing the 4 largest topic classes from a larger news corups. The total number of training samples is 120,000 and testing 7,600. Each class contains 30,000 training samples and 1,900 testing samples. Each sample contains both the title and an excerpt of the article, but in this exercise we will use only the excerpt as input.\n",
        "\n",
        "We will split the training set into two 90%-10% splits in order to have a validation set."
      ]
    },
    {
      "cell_type": "code",
      "source": [
        "### NOTE ### \n",
        "# running this cell might yield download-related errors.\n",
        "# just repeating the execution a couple of times should solve the error.\n",
        "\n",
        "train_ds, valid_ds, test_ds = tfds.load('ag_news_subset',\n",
        "                                        as_supervised=True, # return a set of (text, label) tuples \n",
        "                                        split=['train[:90%]', 'train[-10%:]', 'test'],\n",
        "                                        batch_size=-1)  \n",
        "                                        # ^ using batch_size=-1 returns Tensors instead of Dataset objects"
      ],
      "metadata": {
        "id": "d8xZASzs26zD",
        "colab": {
          "base_uri": "https://localhost:8080/",
          "height": 298,
          "referenced_widgets": [
            "4eb94abb79004873834bd6b0e391adf5",
            "fca916f402da4bbe9229ccc55e98461e",
            "9cfe921973254465855ab7be67c83699",
            "04a5390c74ea45fa85c44f345f3e9ade",
            "b615e73db7834caeb68f0843109871c1",
            "d5af01c5b95047dfbffc912efcad846f",
            "0b33099167c94b119f99b30af8cd32ec",
            "2d57f4977496421e99f6cdaec52a314d",
            "392b51f3f20448cd9b29fa78780ce1c5",
            "3b300f875ffd43f4949ff742a2deb2bd",
            "a455da3208f64d9abc5f0ad2c63d356c",
            "42f2d41b4cce4a2486421e7244905b08",
            "d6e6b74dbbdb48099e1c501303ce80f4",
            "60f8a6a73a6547b5bd772056ea3b51aa",
            "30b02d16996b46efbfe55cec3b5efdfc",
            "0c7a82672f504313b70c461b79548f02",
            "6022ebf73ac64a2a940e91ce9cc2dd01",
            "0d0892cf8222419abf9237bf3349e3e5",
            "9dc5118aad4c480c9cf5f993e17e81ae",
            "530eb8aa28134529a357286fad640cec",
            "0e60dc453a8848c0ae6a15144171d834",
            "213a07691e3d45188fc226537a4562bb",
            "419d3e1478644414801b15b39f1b84d3",
            "1fbaf3b5a85c4b26862a7c8aa578c381",
            "6bafd33a331d4affb5c4dc382d98b017",
            "af91d7a1ec84456aaf2fcbb55a0ce32a",
            "0134e1efeae440109d13cb0f6dc2981e",
            "1c7e19e77eeb4d87b73ac7c5a3843abf",
            "fb919b6a5c6c4ff9bfd48c8c1978e188",
            "5ed1a5eff5d545c7a879f98ff6000806",
            "dab5f3321e48426aba3d6f4293479ffc",
            "77f761d0534b4b459e0c72296097114f",
            "bfe3194840e546839e80c0de316e8ad4",
            "3f897ec14a3b44729f3be173b0c49459",
            "aa15870d24084c339e8fb2324d1066da",
            "c2421a4d76984c5ca013aa5745d677b0",
            "0380616939984a5aab8653fb3ebfd953",
            "b36bfae43fa4487c9775b072f3ef7a0b",
            "8107b181d1864c6f8e857cd47766ffcd",
            "5856a92a4e33464394df3ecd44a3d6b9",
            "fc256f34522d4133a60365e293050e8a",
            "472f73c7a3ed4896887ff53a58ba04ff",
            "51f7864c51364f39ba9370c65f5b6e85",
            "2a73f380a60a46af99031d3a1253a9c6",
            "310f77438918439e8487cc26d4079f0e",
            "dc4bc7c9262f41788e4f3c6e973bcd71",
            "65f6483708514673a4f203e2c1a9c54e",
            "bc83d488d6fa47fa8784875112873628",
            "bdcb88dc3db843d8b426f2448491767b",
            "3ca78e4ac7bd4c01a312c3a42b52af0a",
            "7fcb3a70ee0b47d690cc2ef9bce72619",
            "ba71d4edfade4acb9755b7db3a6bc5a8",
            "8272734053764f6a955fc4759b23d32b",
            "2dcf1a4779b04cfa9c7a71b8ed5d00dd",
            "ebdf9ac6b43146abb0774c26ac09b64e",
            "5b9846c683154b3aa53a6e92eb6b075b",
            "38c128ab900c4094b55ab99e99ce6b35",
            "069bce87bec043589a0fbd836e52adef",
            "41317dc753114e03ada7c9e8aadb4dfb",
            "f1d82b8b563e4081a6966b7e81af2041",
            "2a44e85ad4bd488bbe903cf5bcfbdeb9",
            "c084f4b2db7f42d3816a5932fbc6ed0b",
            "609393bf5b81476a8bb42a0481426f78",
            "6f5d7caea25948198a37b1b1d5b85ac6",
            "af6d055ddec44fa2ba5cd750207c1bfd",
            "b04543f411424c3badffba9963142104",
            "65e7879694ed4a549ff9714a478e1f38",
            "fba6b455089b4dab926aade77337a2d2",
            "bbc8b28137c6478390753335f8f5b21b",
            "c894c92e381b49de9ee115138195ee2d",
            "15fb830f8e1d41888f4ba450f8178627",
            "21dd9aed17cd44a3a9d89f8dc3a6d3f5",
            "1b35571eeb8f487dae95fe0eaeee1c8e",
            "3758e2a38efa4915ae202a21c5beef25",
            "f22d6fcd3871454bac86579802e36e36",
            "29c035338b6d4fc9a03fc640a0e289b7",
            "f5f465e5c1dd4623a4ec7cc46263335c"
          ]
        },
        "outputId": "de6308e2-81c8-441d-fe25-d08509acf5bd"
      },
      "execution_count": 3,
      "outputs": [
        {
          "output_type": "stream",
          "name": "stdout",
          "text": [
            "\u001b[1mDownloading and preparing dataset ag_news_subset/1.0.0 (download: 11.24 MiB, generated: 35.79 MiB, total: 47.03 MiB) to /root/tensorflow_datasets/ag_news_subset/1.0.0...\u001b[0m\n"
          ]
        },
        {
          "output_type": "display_data",
          "data": {
            "text/plain": [
              "Dl Completed...: 0 url [00:00, ? url/s]"
            ],
            "application/vnd.jupyter.widget-view+json": {
              "version_major": 2,
              "version_minor": 0,
              "model_id": "4eb94abb79004873834bd6b0e391adf5"
            }
          },
          "metadata": {}
        },
        {
          "output_type": "display_data",
          "data": {
            "text/plain": [
              "Dl Size...: 0 MiB [00:00, ? MiB/s]"
            ],
            "application/vnd.jupyter.widget-view+json": {
              "version_major": 2,
              "version_minor": 0,
              "model_id": "42f2d41b4cce4a2486421e7244905b08"
            }
          },
          "metadata": {}
        },
        {
          "output_type": "display_data",
          "data": {
            "text/plain": [
              "Extraction completed...: 0 file [00:00, ? file/s]"
            ],
            "application/vnd.jupyter.widget-view+json": {
              "version_major": 2,
              "version_minor": 0,
              "model_id": "419d3e1478644414801b15b39f1b84d3"
            }
          },
          "metadata": {}
        },
        {
          "output_type": "stream",
          "name": "stdout",
          "text": [
            "\n",
            "\n",
            "\n"
          ]
        },
        {
          "output_type": "display_data",
          "data": {
            "text/plain": [
              "0 examples [00:00, ? examples/s]"
            ],
            "application/vnd.jupyter.widget-view+json": {
              "version_major": 2,
              "version_minor": 0,
              "model_id": "3f897ec14a3b44729f3be173b0c49459"
            }
          },
          "metadata": {}
        },
        {
          "output_type": "stream",
          "name": "stdout",
          "text": [
            "Shuffling and writing examples to /root/tensorflow_datasets/ag_news_subset/1.0.0.incompleteA1U18T/ag_news_subset-train.tfrecord\n"
          ]
        },
        {
          "output_type": "display_data",
          "data": {
            "text/plain": [
              "  0%|          | 0/120000 [00:00<?, ? examples/s]"
            ],
            "application/vnd.jupyter.widget-view+json": {
              "version_major": 2,
              "version_minor": 0,
              "model_id": "310f77438918439e8487cc26d4079f0e"
            }
          },
          "metadata": {}
        },
        {
          "output_type": "display_data",
          "data": {
            "text/plain": [
              "0 examples [00:00, ? examples/s]"
            ],
            "application/vnd.jupyter.widget-view+json": {
              "version_major": 2,
              "version_minor": 0,
              "model_id": "5b9846c683154b3aa53a6e92eb6b075b"
            }
          },
          "metadata": {}
        },
        {
          "output_type": "stream",
          "name": "stdout",
          "text": [
            "Shuffling and writing examples to /root/tensorflow_datasets/ag_news_subset/1.0.0.incompleteA1U18T/ag_news_subset-test.tfrecord\n"
          ]
        },
        {
          "output_type": "display_data",
          "data": {
            "text/plain": [
              "  0%|          | 0/7600 [00:00<?, ? examples/s]"
            ],
            "application/vnd.jupyter.widget-view+json": {
              "version_major": 2,
              "version_minor": 0,
              "model_id": "65e7879694ed4a549ff9714a478e1f38"
            }
          },
          "metadata": {}
        },
        {
          "output_type": "stream",
          "name": "stdout",
          "text": [
            "\u001b[1mDataset ag_news_subset downloaded and prepared to /root/tensorflow_datasets/ag_news_subset/1.0.0. Subsequent calls will reuse this data.\u001b[0m\n"
          ]
        }
      ]
    },
    {
      "cell_type": "code",
      "source": [
        "# Tensors have two elements, data and labels; let's split them\n",
        "# so we can transform the data\n",
        "X_train, y_train = train_ds\n",
        "X_valid, y_valid = valid_ds\n",
        "X_test, y_test = test_ds"
      ],
      "metadata": {
        "id": "BYkXCTv3NrvC"
      },
      "execution_count": 4,
      "outputs": []
    },
    {
      "cell_type": "markdown",
      "source": [
        "The AG News Subset dataset consists in news articles, each one composed by a sequence of words. In order to encode each article in a single tensor with a fixed number of elements, we will use multi-hot encoding. For testing purposes, we will only consider the first 10,000  most common words. Multi-hot-encoding our lists means turning them into vectors of 0s and 1s. Concretely, this would mean for instance turning the sequence [3, 5] into a 10,000-dimensional vector that would be all-zeros except for indices 3 and 5, which would be ones. The obtained input representation indicates which words are present (at least one time) in the sentence."
      ],
      "metadata": {
        "id": "8prUBtqq8JW7"
      }
    },
    {
      "cell_type": "code",
      "source": [
        "num_words = 1000\n",
        "vectorize_layer = tf.keras.layers.TextVectorization(\n",
        " max_tokens=num_words,\n",
        " standardize=\"lower_and_strip_punctuation\",\n",
        " split=\"whitespace\",\n",
        " output_mode='multi_hot',\n",
        " pad_to_max_tokens=True)\n",
        "\n",
        "vectorize_layer.adapt(X_train)"
      ],
      "metadata": {
        "id": "Brt087tDIDpe"
      },
      "execution_count": 5,
      "outputs": []
    },
    {
      "cell_type": "code",
      "source": [
        "X_train = vectorize_layer(X_train)\n",
        "X_valid = vectorize_layer(X_valid)\n",
        "X_test  = vectorize_layer(X_test)"
      ],
      "metadata": {
        "id": "seuFLH2lNiDT"
      },
      "execution_count": 6,
      "outputs": []
    },
    {
      "cell_type": "markdown",
      "metadata": {
        "id": "jGUg8TexZMNf"
      },
      "source": [
        "### Define the model:\n",
        "\n",
        "Let's build a Sequential model (`keras.models.Sequential`) and add four layers to it by calling its `add()` method:\n",
        "\n",
        "\n",
        "*   a input layer (`tf.keras.Input`) that is the first layer in your model. With this layer you should specify the `input_shape` argument, leaving out the batch size: `(num_words,)`;\n",
        "*  a Dense layer (`keras.layers.Dense`) with 16 neurons, and the \"relu\" activation function;\n",
        "* another Dense layer with 16 neurons, also with the \"relu\" activation function;\n",
        "* a final Dense layer with 4 output neurons, and with the \"softmax\" activation (since we considering a classification task with four classes)."
      ]
    },
    {
      "cell_type": "code",
      "metadata": {
        "id": "OaoEISyaZL56"
      },
      "source": [
        "model = keras.models.Sequential()\n",
        "model.add(tf.keras.Input(shape=(num_words,)))\n",
        "model.add(keras.layers.Dense(16, activation=\"relu\"))\n",
        "model.add(keras.layers.Dense(16, activation=\"relu\"))\n",
        "model.add(keras.layers.Dense(4, activation=\"softmax\"))"
      ],
      "execution_count": 7,
      "outputs": []
    },
    {
      "cell_type": "markdown",
      "metadata": {
        "id": "fYfxUOQVZljh"
      },
      "source": [
        "Call the model's `summary()` method to check if the model has been built correctly. Also, try using `keras.utils.plot_model()` to save an image of your model's architecture."
      ]
    },
    {
      "cell_type": "code",
      "metadata": {
        "id": "IpGkQl5dZoWq",
        "colab": {
          "base_uri": "https://localhost:8080/"
        },
        "outputId": "be3025c6-6e08-4235-d603-5c1b20392797"
      },
      "source": [
        "model.summary()"
      ],
      "execution_count": 8,
      "outputs": [
        {
          "output_type": "stream",
          "name": "stdout",
          "text": [
            "Model: \"sequential\"\n",
            "_________________________________________________________________\n",
            " Layer (type)                Output Shape              Param #   \n",
            "=================================================================\n",
            " dense (Dense)               (None, 16)                16016     \n",
            "                                                                 \n",
            " dense_1 (Dense)             (None, 16)                272       \n",
            "                                                                 \n",
            " dense_2 (Dense)             (None, 4)                 68        \n",
            "                                                                 \n",
            "=================================================================\n",
            "Total params: 16,356\n",
            "Trainable params: 16,356\n",
            "Non-trainable params: 0\n",
            "_________________________________________________________________\n"
          ]
        }
      ]
    },
    {
      "cell_type": "code",
      "metadata": {
        "id": "b1NbkrXRZwOA",
        "colab": {
          "base_uri": "https://localhost:8080/",
          "height": 422
        },
        "outputId": "fe22a75c-83f6-4b33-8ad0-52ec0286c1ad"
      },
      "source": [
        "keras.utils.plot_model(model, \"my_model.png\", show_shapes=True)"
      ],
      "execution_count": 9,
      "outputs": [
        {
          "output_type": "execute_result",
          "data": {
            "text/plain": [
              "<IPython.core.display.Image object>"
            ],
            "image/png": "[encoded data removed]"
          },
          "metadata": {},
          "execution_count": 9
        }
      ]
    },
    {
      "cell_type": "markdown",
      "metadata": {
        "id": "Mc3xzuA-33WH"
      },
      "source": [
        "As you can see, the first dimension of each layer is not defined (`None`), indeed this dimension in each layer is variable and depends on the batch size."
      ]
    },
    {
      "cell_type": "markdown",
      "metadata": {
        "id": "6FAjFixuHSA_"
      },
      "source": [
        "Instaed of using `add()` method it is also possibile to define the model using the following syntax"
      ]
    },
    {
      "cell_type": "code",
      "metadata": {
        "id": "yOhr57M9GPHy",
        "colab": {
          "base_uri": "https://localhost:8080/",
          "height": 682
        },
        "outputId": "757b540b-4b93-4f53-82a4-53af361aaf1f"
      },
      "source": [
        "model = keras.models.Sequential([\n",
        "    tf.keras.Input(shape=(num_words,)),\n",
        "    keras.layers.Dense(16, activation=\"relu\"),\n",
        "    keras.layers.Dense(16, activation=\"relu\"),\n",
        "    keras.layers.Dense(4, activation=\"softmax\")\n",
        "])\n",
        "model.summary()\n",
        "keras.utils.plot_model(model, \"my_model.png\", show_shapes=True)"
      ],
      "execution_count": 10,
      "outputs": [
        {
          "output_type": "stream",
          "name": "stdout",
          "text": [
            "Model: \"sequential_1\"\n",
            "_________________________________________________________________\n",
            " Layer (type)                Output Shape              Param #   \n",
            "=================================================================\n",
            " dense_3 (Dense)             (None, 16)                16016     \n",
            "                                                                 \n",
            " dense_4 (Dense)             (None, 16)                272       \n",
            "                                                                 \n",
            " dense_5 (Dense)             (None, 4)                 68        \n",
            "                                                                 \n",
            "=================================================================\n",
            "Total params: 16,356\n",
            "Trainable params: 16,356\n",
            "Non-trainable params: 0\n",
            "_________________________________________________________________\n"
          ]
        },
        {
          "output_type": "execute_result",
          "data": {
            "text/plain": [
              "<IPython.core.display.Image object>"
            ],
            "image/png": "[encoded data removed]"
          },
          "metadata": {},
          "execution_count": 10
        }
      ]
    },
    {
      "cell_type": "markdown",
      "metadata": {
        "id": "2ySdJmzxaSuz"
      },
      "source": [
        "### Optimize the model:\n",
        "\n",
        "After the model has been created, you must call its `compile()` method to specify the loss function and the optimizer to use.\n",
        "\n",
        "Since the model performs a classification task, and we have labels encoded as integers, we use the sparse categorical cross-entropy loss. As optimizer we use Adam.\n",
        "\n",
        "Moreover, you can optionally specify a list of additional metrics that should be measured during training. In this case we specify `metrics=[\"accuracy\"]`."
      ]
    },
    {
      "cell_type": "code",
      "metadata": {
        "id": "x3bbsY3uaeh5"
      },
      "source": [
        "model.compile(loss=\"sparse_categorical_crossentropy\",\n",
        "              optimizer=keras.optimizers.Adam(learning_rate=1e-4),\n",
        "              metrics=[\"accuracy\"])"
      ],
      "execution_count": 12,
      "outputs": []
    },
    {
      "cell_type": "markdown",
      "metadata": {
        "id": "NB9SV0MpaeTg"
      },
      "source": [
        "Now our model is ready to be trained. Call its `fit()` method, passing to it the input features (`X_train`) and the target classes (`y_train`). Set the number of epochs to 20. \n",
        "In order to validate our model we will also pass the validation data by setting `validation_data=(X_valid, y_valid)`. Keras will compute the loss and the additional metrics (the accuracy in this case) on the validation set at the end of each epoch. If the loss on the training set is much lower than the one on the validation set, your model is probably overfitting the training set. Note: the `fit()` method will return a `History` object containing training stats."
      ]
    },
    {
      "cell_type": "code",
      "metadata": {
        "id": "5whx-LU3aoKn",
        "colab": {
          "base_uri": "https://localhost:8080/"
        },
        "outputId": "0c302187-833e-4e18-8481-844edde3b7dd"
      },
      "source": [
        "history = model.fit(X_train, y_train, epochs=20,\n",
        "                    validation_data=(X_valid, y_valid))"
      ],
      "execution_count": 13,
      "outputs": [
        {
          "output_type": "stream",
          "name": "stdout",
          "text": [
            "Epoch 1/20\n",
            "3375/3375 [==============================] - 9s 2ms/step - loss: 0.8503 - accuracy: 0.6761 - val_loss: 0.5107 - val_accuracy: 0.8314\n",
            "Epoch 2/20\n",
            "3375/3375 [==============================] - 7s 2ms/step - loss: 0.4583 - accuracy: 0.8449 - val_loss: 0.4452 - val_accuracy: 0.8475\n",
            "Epoch 3/20\n",
            "3375/3375 [==============================] - 7s 2ms/step - loss: 0.4222 - accuracy: 0.8546 - val_loss: 0.4318 - val_accuracy: 0.8507\n",
            "Epoch 4/20\n",
            "3375/3375 [==============================] - 7s 2ms/step - loss: 0.4089 - accuracy: 0.8573 - val_loss: 0.4241 - val_accuracy: 0.8509\n",
            "Epoch 5/20\n",
            "3375/3375 [==============================] - 7s 2ms/step - loss: 0.4012 - accuracy: 0.8590 - val_loss: 0.4210 - val_accuracy: 0.8525\n",
            "Epoch 6/20\n",
            "3375/3375 [==============================] - 7s 2ms/step - loss: 0.3959 - accuracy: 0.8601 - val_loss: 0.4175 - val_accuracy: 0.8531\n",
            "Epoch 7/20\n",
            "3375/3375 [==============================] - 7s 2ms/step - loss: 0.3917 - accuracy: 0.8615 - val_loss: 0.4149 - val_accuracy: 0.8535\n",
            "Epoch 8/20\n",
            "3375/3375 [==============================] - 7s 2ms/step - loss: 0.3882 - accuracy: 0.8617 - val_loss: 0.4132 - val_accuracy: 0.8550\n",
            "Epoch 9/20\n",
            "3375/3375 [==============================] - 7s 2ms/step - loss: 0.3851 - accuracy: 0.8627 - val_loss: 0.4109 - val_accuracy: 0.8540\n",
            "Epoch 10/20\n",
            "3375/3375 [==============================] - 7s 2ms/step - loss: 0.3825 - accuracy: 0.8629 - val_loss: 0.4096 - val_accuracy: 0.8534\n",
            "Epoch 11/20\n",
            "3375/3375 [==============================] - 7s 2ms/step - loss: 0.3799 - accuracy: 0.8637 - val_loss: 0.4081 - val_accuracy: 0.8539\n",
            "Epoch 12/20\n",
            "3375/3375 [==============================] - 7s 2ms/step - loss: 0.3775 - accuracy: 0.8638 - val_loss: 0.4064 - val_accuracy: 0.8543\n",
            "Epoch 13/20\n",
            "3375/3375 [==============================] - 7s 2ms/step - loss: 0.3753 - accuracy: 0.8645 - val_loss: 0.4051 - val_accuracy: 0.8538\n",
            "Epoch 14/20\n",
            "3375/3375 [==============================] - 7s 2ms/step - loss: 0.3731 - accuracy: 0.8649 - val_loss: 0.4053 - val_accuracy: 0.8543\n",
            "Epoch 15/20\n",
            "3375/3375 [==============================] - 7s 2ms/step - loss: 0.3709 - accuracy: 0.8660 - val_loss: 0.4035 - val_accuracy: 0.8553\n",
            "Epoch 16/20\n",
            "3375/3375 [==============================] - 7s 2ms/step - loss: 0.3689 - accuracy: 0.8661 - val_loss: 0.4027 - val_accuracy: 0.8553\n",
            "Epoch 17/20\n",
            "3375/3375 [==============================] - 7s 2ms/step - loss: 0.3669 - accuracy: 0.8668 - val_loss: 0.4011 - val_accuracy: 0.8565\n",
            "Epoch 18/20\n",
            "3375/3375 [==============================] - 7s 2ms/step - loss: 0.3649 - accuracy: 0.8672 - val_loss: 0.4003 - val_accuracy: 0.8554\n",
            "Epoch 19/20\n",
            "3375/3375 [==============================] - 7s 2ms/step - loss: 0.3630 - accuracy: 0.8679 - val_loss: 0.3992 - val_accuracy: 0.8559\n",
            "Epoch 20/20\n",
            "3375/3375 [==============================] - 7s 2ms/step - loss: 0.3612 - accuracy: 0.8684 - val_loss: 0.3993 - val_accuracy: 0.8564\n"
          ]
        }
      ]
    },
    {
      "cell_type": "markdown",
      "metadata": {
        "id": "EPxiw8iCADr-"
      },
      "source": [
        "Let's plot the loss and the accuracy trends on both training and validation sets. We define the `plot_learning_acc_and_loss` function because we will reuse it in the next steps."
      ]
    },
    {
      "cell_type": "code",
      "metadata": {
        "id": "AJg-F7mUa7st",
        "colab": {
          "base_uri": "https://localhost:8080/",
          "height": 320
        },
        "outputId": "74cb9973-d2bc-4673-9b21-eafa1f71d54b"
      },
      "source": [
        "def plot_learning_acc_and_loss(history):\n",
        "    pd.DataFrame(history.history).plot(figsize=(8, 5))\n",
        "    plt.grid(True)\n",
        "    plt.show()\n",
        "plot_learning_acc_and_loss(history)"
      ],
      "execution_count": 14,
      "outputs": [
        {
          "output_type": "display_data",
          "data": {
            "text/plain": [
              "<Figure size 576x360 with 1 Axes>"
            ],
            "image/png": "[encoded data removed]"
          },
          "metadata": {
            "needs_background": "light"
          }
        }
      ]
    },
    {
      "cell_type": "markdown",
      "metadata": {
        "id": "9O3-sLmxansJ"
      },
      "source": [
        "### [TO COMPLETE] Evaluate the model:\n",
        "\n",
        "Now, our model has been optimized on the training set, and as you can see the performance on the validation set in quite similar (so it does not overfit the training data). Let's now evaluate the performance of our model using the test set."
      ]
    },
    {
      "cell_type": "code",
      "metadata": {
        "id": "q-ZvJEcObdyB",
        "colab": {
          "base_uri": "https://localhost:8080/"
        },
        "outputId": "7b85ec14-2e88-4c3b-c413-1068f1595963"
      },
      "source": [
        "model.evaluate(X_test, y_test)"
      ],
      "execution_count": 15,
      "outputs": [
        {
          "output_type": "stream",
          "name": "stdout",
          "text": [
            "238/238 [==============================] - 1s 2ms/step - loss: 0.4093 - accuracy: 0.8521\n"
          ]
        },
        {
          "output_type": "execute_result",
          "data": {
            "text/plain": [
              "[0.40926671028137207, 0.8521052598953247]"
            ]
          },
          "metadata": {},
          "execution_count": 15
        }
      ]
    },
    {
      "cell_type": "markdown",
      "metadata": {
        "id": "KTSxlnwrII-n"
      },
      "source": [
        "[TO COMPLETE] Explain why it is important to use test and validation, and why it is important to evaluate the model on the test set instead of the validation set. Finally, explain what is the usefulness of the validation set. Insert the discussion in this cell.\n",
        "\n",
        "\n",
        "- It is a very common procedure to devide our initial set in to a training and validation set. We use a small portion of the data for the validation set in order to help ourself \"test\" our models performance during training and before actualy using it on the test set. With the purpose of having something to compare it to. Of course the validation of the model should always be on the test set because it gives us an unbiased validation on the selected model. Being that the validation set is usually not a big sample of data and not enough to validate the model, also it initialy comes from the same set of data as our training set."
      ]
    },
    {
      "cell_type": "markdown",
      "metadata": {
        "id": "aeGlzKe864Gq"
      },
      "source": [
        "## [TO COMPLETE] Exercise 2.2: Overfiting\n",
        "\n",
        "A common problem that occurs when you train a deep neural network is overfittig. Overfitting occurs when you achieve a good fit of your model on the training data, while it does not generalize well on new, unseen data. In other words, the model learned patterns specific to the training data, which are irrelevant in other data.\n",
        "As we have seen in the previous exercise, our model does not overfit the training data. In this exercise, we try to modify the training parameters in order to have a model that overfits.\n",
        "Overfitting can have many causes and usually is a combination of some of them, for instance: too many parameters/ layers, too few training samples, wrong learning rate (usualy too high), etc..\n",
        "\n",
        "[TO COMPLETE] In the next cell define a new model (similar to the previuos one) that overfits the training data; then plot the trend of the loss in training and validation set."
      ]
    },
    {
      "cell_type": "code",
      "metadata": {
        "id": "T2B2DFEC8f88",
        "colab": {
          "base_uri": "https://localhost:8080/"
        },
        "outputId": "c59b384b-8f10-456d-9376-8e3c084176b1"
      },
      "source": [
        "model = keras.models.Sequential()\n",
        "#[TO COMPLETE] modify the previuos model in order to obtain a new model that overfits the training data\n",
        "\n",
        "\n",
        "model.add(tf.keras.Input(shape=(num_words,)))\n",
        "model.add(keras.layers.Dense(111, activation=\"relu\"))\n",
        "model.add(keras.layers.Dense(88, activation=\"relu\"))\n",
        "model.add(keras.layers.Dense(36, activation=\"relu\"))\n",
        "model.add(keras.layers.Dense(4, activation=\"softmax\"))\n",
        "\n",
        "model.compile(loss=\"sparse_categorical_crossentropy\",\n",
        "              optimizer=keras.optimizers.Adam(learning_rate=1e-3),#[TO COMPLETE] learning rate\n",
        "              metrics=[\"accuracy\"])\n",
        "\n",
        "history = model.fit(X_train, y_train, epochs=20,#[TO COMPLETE] epochs\n",
        "                    validation_data=(X_valid, y_valid))\n",
        "\n",
        "print(\"Model Evaluation\")\n",
        "model.evaluate(X_test, y_test)"
      ],
      "execution_count": 18,
      "outputs": [
        {
          "output_type": "stream",
          "name": "stdout",
          "text": [
            "Epoch 1/20\n",
            "3375/3375 [==============================] - 13s 4ms/step - loss: 0.4545 - accuracy: 0.8346 - val_loss: 0.4137 - val_accuracy: 0.8530\n",
            "Epoch 2/20\n",
            "3375/3375 [==============================] - 13s 4ms/step - loss: 0.3644 - accuracy: 0.8667 - val_loss: 0.3878 - val_accuracy: 0.8624\n",
            "Epoch 3/20\n",
            "3375/3375 [==============================] - 11s 3ms/step - loss: 0.3011 - accuracy: 0.8915 - val_loss: 0.3887 - val_accuracy: 0.8634\n",
            "Epoch 4/20\n",
            "3375/3375 [==============================] - 11s 3ms/step - loss: 0.2415 - accuracy: 0.9140 - val_loss: 0.4225 - val_accuracy: 0.8573\n",
            "Epoch 5/20\n",
            "3375/3375 [==============================] - 11s 3ms/step - loss: 0.1904 - accuracy: 0.9334 - val_loss: 0.4625 - val_accuracy: 0.8562\n",
            "Epoch 6/20\n",
            "3375/3375 [==============================] - 12s 4ms/step - loss: 0.1489 - accuracy: 0.9473 - val_loss: 0.5449 - val_accuracy: 0.8483\n",
            "Epoch 7/20\n",
            "3375/3375 [==============================] - 13s 4ms/step - loss: 0.1195 - accuracy: 0.9580 - val_loss: 0.6007 - val_accuracy: 0.8459\n",
            "Epoch 8/20\n",
            "3375/3375 [==============================] - 12s 4ms/step - loss: 0.0963 - accuracy: 0.9662 - val_loss: 0.6532 - val_accuracy: 0.8461\n",
            "Epoch 9/20\n",
            "3375/3375 [==============================] - 12s 4ms/step - loss: 0.0803 - accuracy: 0.9718 - val_loss: 0.7397 - val_accuracy: 0.8392\n",
            "Epoch 10/20\n",
            "3375/3375 [==============================] - 12s 4ms/step - loss: 0.0689 - accuracy: 0.9760 - val_loss: 0.8377 - val_accuracy: 0.8402\n",
            "Epoch 11/20\n",
            "3375/3375 [==============================] - 12s 4ms/step - loss: 0.0582 - accuracy: 0.9800 - val_loss: 0.9130 - val_accuracy: 0.8438\n",
            "Epoch 12/20\n",
            "3375/3375 [==============================] - 12s 4ms/step - loss: 0.0550 - accuracy: 0.9816 - val_loss: 0.9216 - val_accuracy: 0.8418\n",
            "Epoch 13/20\n",
            "3375/3375 [==============================] - 11s 3ms/step - loss: 0.0490 - accuracy: 0.9840 - val_loss: 0.9536 - val_accuracy: 0.8397\n",
            "Epoch 14/20\n",
            "3375/3375 [==============================] - 12s 3ms/step - loss: 0.0435 - accuracy: 0.9853 - val_loss: 1.0324 - val_accuracy: 0.8398\n",
            "Epoch 15/20\n",
            "3375/3375 [==============================] - 11s 3ms/step - loss: 0.0390 - accuracy: 0.9866 - val_loss: 1.0921 - val_accuracy: 0.8407\n",
            "Epoch 16/20\n",
            "3375/3375 [==============================] - 11s 3ms/step - loss: 0.0355 - accuracy: 0.9885 - val_loss: 1.1209 - val_accuracy: 0.8405\n",
            "Epoch 17/20\n",
            "3375/3375 [==============================] - 10s 3ms/step - loss: 0.0342 - accuracy: 0.9885 - val_loss: 1.1638 - val_accuracy: 0.8404\n",
            "Epoch 18/20\n",
            "3375/3375 [==============================] - 11s 3ms/step - loss: 0.0312 - accuracy: 0.9896 - val_loss: 1.1942 - val_accuracy: 0.8418\n",
            "Epoch 19/20\n",
            "3375/3375 [==============================] - 10s 3ms/step - loss: 0.0297 - accuracy: 0.9900 - val_loss: 1.1801 - val_accuracy: 0.8407\n",
            "Epoch 20/20\n",
            "3375/3375 [==============================] - 12s 3ms/step - loss: 0.0276 - accuracy: 0.9905 - val_loss: 1.2196 - val_accuracy: 0.8396\n",
            "Model Evaluation\n",
            "238/238 [==============================] - 1s 2ms/step - loss: 1.2622 - accuracy: 0.8357\n"
          ]
        },
        {
          "output_type": "execute_result",
          "data": {
            "text/plain": [
              "[1.2622092962265015, 0.8356578946113586]"
            ]
          },
          "metadata": {},
          "execution_count": 18
        }
      ]
    },
    {
      "cell_type": "markdown",
      "metadata": {
        "id": "MS0fujEqh_m3"
      },
      "source": [
        "Define the `plot_learning_curves` function that plots only the losses (not the accuracy)."
      ]
    },
    {
      "cell_type": "code",
      "metadata": {
        "id": "q5EsklC0DZYH",
        "colab": {
          "base_uri": "https://localhost:8080/",
          "height": 336
        },
        "outputId": "75e7aca0-e362-46da-9bd2-2c7b27fb46c6"
      },
      "source": [
        "def plot_learning_curves(history):\n",
        "    plt.figure(figsize=(8, 5))\n",
        "    plt.plot(history.epoch,history.history['loss'], label='train loss')\n",
        "    plt.plot(history.epoch,history.history['val_loss'], label='valid loss')\n",
        "    plt.legend()\n",
        "    plt.title('loss')\n",
        "    plt.grid(True)\n",
        "    plt.show()\n",
        "plot_learning_curves(history)"
      ],
      "execution_count": 19,
      "outputs": [
        {
          "output_type": "display_data",
          "data": {
            "text/plain": [
              "<Figure size 576x360 with 1 Axes>"
            ],
            "image/png": "[encoded data removed]"
          },
          "metadata": {
            "needs_background": "light"
          }
        }
      ]
    },
    {
      "cell_type": "markdown",
      "metadata": {
        "id": "OW4Kf4fgDfOs"
      },
      "source": [
        "### [TO COMPLETE] L1 norm\n",
        "\n",
        "One possible way to solve the overitting issue is by using regularization methods. The two most common regularization methods in Deep Learning are the L1-norm regularization and the L2-norm regularization. Both These techniques are based on limiting the capacity of models, by adding a parameter norm penalty to the objective function $\\mathcal{J}$:\n",
        "$$\n",
        "\\hat{\\mathcal{J}}(\\theta,\\mathbf{X},\\mathbf{y}) = \\mathcal{J}(\\theta,\\mathbf{X},\\mathbf{y}) + \\alpha \\Omega(\\theta)\n",
        "$$\n",
        "where $\\alpha$ is a hyperparameter that weighs the relative contribution of the norm penalty $\\Omega$.\n",
        "Lets start by considering the L1-norm regularization where the regularization term is defined as:\n",
        "$$\n",
        " \\Omega(\\theta)=||\\mathbf{W}||_1=\\sum_i |\\mathbf{w}|\n",
        "$$\n",
        "Let's find the values for the $\\alpha$ parameters that allow to remove the overfitting effect."
      ]
    },
    {
      "cell_type": "code",
      "metadata": {
        "id": "QzD8520dDgw3",
        "colab": {
          "base_uri": "https://localhost:8080/",
          "height": 1000
        },
        "outputId": "bbd16105-7062-4eda-a6ff-12932276b399"
      },
      "source": [
        "#In Keras is neccesary to add the regularizer by using the attribute kernel_regularizer\n",
        "#to each layer whose weights will be considered in the Omega function.\n",
        "#is it also possibile to consider the bias by using the attribute bias_regularizer \n",
        "#tf.keras.regularizers.l1(alpha) perfroms the L1-norm regularization\n",
        "\n",
        "#[TO COMPLETE] copy the model that you previously defined that overfits the \n",
        "#training data, and add the L1-norm regularization. Use a proper value for the\n",
        "#alpha hyper-parameter, that prevents the model from overfitting. The results  \n",
        "#reached by the model in terms of loss and accuracy (in all data sets) should be\n",
        "#comparable with the ones obtained by the initial model defined in Exercise 2.1 \n",
        "\n",
        "#In general, a layer that exploits L1-norm regularization is defined as follows:\n",
        "\n",
        "#model.add(keras.layers.Dense(units=[TO COMPLETE], activation=[TO COMPLETE], kernel_regularizer=tf.keras.regularizers.l1([TO COMPLETE]))) \n",
        "\n",
        "model = keras.models.Sequential()\n",
        "#[TO COMPLETE]\n",
        "model.add(tf.keras.Input(shape=(num_words,)))\n",
        "model.add(keras.layers.Dense(111, activation=\"relu\", kernel_regularizer=tf.keras.regularizers.l1(0.0002)))\n",
        "model.add(keras.layers.Dense(88, activation=\"relu\", kernel_regularizer=tf.keras.regularizers.l1(0.0002)))\n",
        "model.add(keras.layers.Dense(36, activation=\"relu\", kernel_regularizer=tf.keras.regularizers.l1(0.0002)))\n",
        "model.add(keras.layers.Dense(4, activation=\"softmax\"))\n",
        "\n",
        "\n",
        "model.compile(loss=\"sparse_categorical_crossentropy\",\n",
        "              optimizer=keras.optimizers.Adam(learning_rate=1e-3),#[TO COMPLETE] learning rate\n",
        "              metrics=[\"accuracy\"])\n",
        "\n",
        "history = model.fit(X_train, y_train, epochs=20,#[TO COMPLETE] epochs\n",
        "                    validation_data=(X_valid, y_valid))\n",
        "\n",
        "print(\"Model Evaluation\")\n",
        "model.evaluate(X_test, y_test)\n",
        "plot_learning_curves(history)"
      ],
      "execution_count": 20,
      "outputs": [
        {
          "output_type": "stream",
          "name": "stdout",
          "text": [
            "Epoch 1/20\n",
            "3375/3375 [==============================] - 16s 5ms/step - loss: 0.7712 - accuracy: 0.8258 - val_loss: 0.6101 - val_accuracy: 0.8401\n",
            "Epoch 2/20\n",
            "3375/3375 [==============================] - 13s 4ms/step - loss: 0.5626 - accuracy: 0.8454 - val_loss: 0.5343 - val_accuracy: 0.8503\n",
            "Epoch 3/20\n",
            "3375/3375 [==============================] - 13s 4ms/step - loss: 0.5179 - accuracy: 0.8507 - val_loss: 0.5163 - val_accuracy: 0.8500\n",
            "Epoch 4/20\n",
            "3375/3375 [==============================] - 14s 4ms/step - loss: 0.5016 - accuracy: 0.8526 - val_loss: 0.5170 - val_accuracy: 0.8466\n",
            "Epoch 5/20\n",
            "3375/3375 [==============================] - 14s 4ms/step - loss: 0.4931 - accuracy: 0.8542 - val_loss: 0.5015 - val_accuracy: 0.8503\n",
            "Epoch 6/20\n",
            "3375/3375 [==============================] - 14s 4ms/step - loss: 0.4863 - accuracy: 0.8552 - val_loss: 0.4990 - val_accuracy: 0.8493\n",
            "Epoch 7/20\n",
            "3375/3375 [==============================] - 13s 4ms/step - loss: 0.4813 - accuracy: 0.8567 - val_loss: 0.5043 - val_accuracy: 0.8523\n",
            "Epoch 8/20\n",
            "3375/3375 [==============================] - 14s 4ms/step - loss: 0.4798 - accuracy: 0.8566 - val_loss: 0.4881 - val_accuracy: 0.8556\n",
            "Epoch 9/20\n",
            "3375/3375 [==============================] - 14s 4ms/step - loss: 0.4769 - accuracy: 0.8577 - val_loss: 0.4977 - val_accuracy: 0.8499\n",
            "Epoch 10/20\n",
            "3375/3375 [==============================] - 13s 4ms/step - loss: 0.4759 - accuracy: 0.8578 - val_loss: 0.4924 - val_accuracy: 0.8522\n",
            "Epoch 11/20\n",
            "3375/3375 [==============================] - 13s 4ms/step - loss: 0.4749 - accuracy: 0.8581 - val_loss: 0.4869 - val_accuracy: 0.8543\n",
            "Epoch 12/20\n",
            "3375/3375 [==============================] - 13s 4ms/step - loss: 0.4742 - accuracy: 0.8589 - val_loss: 0.4877 - val_accuracy: 0.8542\n",
            "Epoch 13/20\n",
            "3375/3375 [==============================] - 13s 4ms/step - loss: 0.4732 - accuracy: 0.8591 - val_loss: 0.4851 - val_accuracy: 0.8538\n",
            "Epoch 14/20\n",
            "3375/3375 [==============================] - 13s 4ms/step - loss: 0.4725 - accuracy: 0.8596 - val_loss: 0.4942 - val_accuracy: 0.8512\n",
            "Epoch 15/20\n",
            "3375/3375 [==============================] - 13s 4ms/step - loss: 0.4716 - accuracy: 0.8595 - val_loss: 0.4852 - val_accuracy: 0.8528\n",
            "Epoch 16/20\n",
            "3375/3375 [==============================] - 13s 4ms/step - loss: 0.4707 - accuracy: 0.8590 - val_loss: 0.4872 - val_accuracy: 0.8552\n",
            "Epoch 17/20\n",
            "3375/3375 [==============================] - 13s 4ms/step - loss: 0.4701 - accuracy: 0.8597 - val_loss: 0.4860 - val_accuracy: 0.8570\n",
            "Epoch 18/20\n",
            "3375/3375 [==============================] - 13s 4ms/step - loss: 0.4705 - accuracy: 0.8600 - val_loss: 0.4831 - val_accuracy: 0.8540\n",
            "Epoch 19/20\n",
            "3375/3375 [==============================] - 13s 4ms/step - loss: 0.4694 - accuracy: 0.8594 - val_loss: 0.4817 - val_accuracy: 0.8550\n",
            "Epoch 20/20\n",
            "3375/3375 [==============================] - 13s 4ms/step - loss: 0.4689 - accuracy: 0.8602 - val_loss: 0.4967 - val_accuracy: 0.8528\n",
            "Model Evaluation\n",
            "238/238 [==============================] - 1s 2ms/step - loss: 0.5022 - accuracy: 0.8500\n"
          ]
        },
        {
          "output_type": "display_data",
          "data": {
            "text/plain": [
              "<Figure size 576x360 with 1 Axes>"
            ],
            "image/png": "[encoded data removed]"
          },
          "metadata": {
            "needs_background": "light"
          }
        }
      ]
    },
    {
      "cell_type": "markdown",
      "metadata": {
        "id": "CgnCGYUvDqbC"
      },
      "source": [
        "### [TO COMPLETE] L2-norm\n",
        "\n",
        "L2-norm regularization is also known as weight decay. This strategy drives the weights closer to the origin by adding the regularization term omega which is defined as:\n",
        "$$\n",
        " \\Omega(\\theta)=\\frac{1}{2}||\\mathbf{W}||_2^2\n",
        "$$\n",
        "\n",
        "Let's find the values for the $\\alpha$ parameters that allow removing remove the overfitting effect with L2-norm."
      ]
    },
    {
      "cell_type": "code",
      "metadata": {
        "id": "qqNhu350DtJo",
        "colab": {
          "base_uri": "https://localhost:8080/",
          "height": 1000
        },
        "outputId": "73775364-d400-4af6-b1b4-825d6679fbc6"
      },
      "source": [
        "#[TO COMPLETE] insert the model that you previously defined that overfit the \n",
        "#trainig data, and add the L2-norm regularization. Use proper values for the\n",
        "#alpha hyper-parameters, that prevents the model from overfitting. The results  \n",
        "#reached by the model in terms of loss and accuracy (in all data sets) should be\n",
        "#comparable with the ones obtained by the initial model defined in Exercise 2.1\n",
        "\n",
        "#In general, a layer that exploits L2-norm regularization is defined as follow:\n",
        "\n",
        "#model.add(keras.layers.Dense(units=[TO COMPLETE], activation=[TO COMPLETE],kernel_regularizer=tf.keras.regularizers.l2([TO COMPLETE]))) \n",
        "\n",
        "model = keras.models.Sequential()\n",
        "#[TO COMPLETE]\n",
        "model.add(tf.keras.Input(shape=(num_words,)))\n",
        "model.add(keras.layers.Dense(111, activation=\"relu\", kernel_regularizer=tf.keras.regularizers.l2(0.002)))\n",
        "model.add(keras.layers.Dense(88, activation=\"relu\", kernel_regularizer=tf.keras.regularizers.l2(0.002)))\n",
        "model.add(keras.layers.Dense(36, activation=\"relu\", kernel_regularizer=tf.keras.regularizers.l2(0.002)))\n",
        "model.add(keras.layers.Dense(4, activation=\"softmax\"))\n",
        "\n",
        "model.compile(loss=\"sparse_categorical_crossentropy\",\n",
        "              optimizer=keras.optimizers.Adam(learning_rate=1e-3),#[TO COMPLETE] learning rate\n",
        "              metrics=[\"accuracy\"])\n",
        "\n",
        "history = model.fit(X_train, y_train, epochs=20,#[TO COMPLETE] epochs\n",
        "                    validation_data=(X_valid, y_valid))\n",
        "\n",
        "print(\"Model Evaluation\")\n",
        "model.evaluate(X_test, y_test)\n",
        "plot_learning_curves(history)"
      ],
      "execution_count": 21,
      "outputs": [
        {
          "output_type": "stream",
          "name": "stdout",
          "text": [
            "Epoch 1/20\n",
            "3375/3375 [==============================] - 13s 4ms/step - loss: 0.6540 - accuracy: 0.8214 - val_loss: 0.5630 - val_accuracy: 0.8378\n",
            "Epoch 2/20\n",
            "3375/3375 [==============================] - 12s 4ms/step - loss: 0.5404 - accuracy: 0.8397 - val_loss: 0.5198 - val_accuracy: 0.8450\n",
            "Epoch 3/20\n",
            "3375/3375 [==============================] - 12s 4ms/step - loss: 0.5106 - accuracy: 0.8465 - val_loss: 0.5053 - val_accuracy: 0.8455\n",
            "Epoch 4/20\n",
            "3375/3375 [==============================] - 12s 4ms/step - loss: 0.4961 - accuracy: 0.8493 - val_loss: 0.4970 - val_accuracy: 0.8478\n",
            "Epoch 5/20\n",
            "3375/3375 [==============================] - 13s 4ms/step - loss: 0.4880 - accuracy: 0.8506 - val_loss: 0.4937 - val_accuracy: 0.8485\n",
            "Epoch 6/20\n",
            "3375/3375 [==============================] - 14s 4ms/step - loss: 0.4829 - accuracy: 0.8518 - val_loss: 0.4864 - val_accuracy: 0.8482\n",
            "Epoch 7/20\n",
            "3375/3375 [==============================] - 12s 4ms/step - loss: 0.4795 - accuracy: 0.8525 - val_loss: 0.4968 - val_accuracy: 0.8468\n",
            "Epoch 8/20\n",
            "3375/3375 [==============================] - 12s 4ms/step - loss: 0.4770 - accuracy: 0.8529 - val_loss: 0.4799 - val_accuracy: 0.8534\n",
            "Epoch 9/20\n",
            "3375/3375 [==============================] - 12s 4ms/step - loss: 0.4744 - accuracy: 0.8535 - val_loss: 0.4845 - val_accuracy: 0.8497\n",
            "Epoch 10/20\n",
            "3375/3375 [==============================] - 12s 4ms/step - loss: 0.4727 - accuracy: 0.8536 - val_loss: 0.4881 - val_accuracy: 0.8472\n",
            "Epoch 11/20\n",
            "3375/3375 [==============================] - 12s 4ms/step - loss: 0.4715 - accuracy: 0.8540 - val_loss: 0.4796 - val_accuracy: 0.8518\n",
            "Epoch 12/20\n",
            "3375/3375 [==============================] - 12s 4ms/step - loss: 0.4694 - accuracy: 0.8554 - val_loss: 0.4767 - val_accuracy: 0.8501\n",
            "Epoch 13/20\n",
            "3375/3375 [==============================] - 12s 4ms/step - loss: 0.4685 - accuracy: 0.8547 - val_loss: 0.4675 - val_accuracy: 0.8550\n",
            "Epoch 14/20\n",
            "3375/3375 [==============================] - 12s 4ms/step - loss: 0.4666 - accuracy: 0.8555 - val_loss: 0.4868 - val_accuracy: 0.8448\n",
            "Epoch 15/20\n",
            "3375/3375 [==============================] - 12s 4ms/step - loss: 0.4661 - accuracy: 0.8547 - val_loss: 0.4756 - val_accuracy: 0.8511\n",
            "Epoch 16/20\n",
            "3375/3375 [==============================] - 12s 4ms/step - loss: 0.4655 - accuracy: 0.8556 - val_loss: 0.4729 - val_accuracy: 0.8521\n",
            "Epoch 17/20\n",
            "3375/3375 [==============================] - 12s 4ms/step - loss: 0.4647 - accuracy: 0.8553 - val_loss: 0.4708 - val_accuracy: 0.8543\n",
            "Epoch 18/20\n",
            "3375/3375 [==============================] - 12s 4ms/step - loss: 0.4638 - accuracy: 0.8560 - val_loss: 0.4715 - val_accuracy: 0.8522\n",
            "Epoch 19/20\n",
            "3375/3375 [==============================] - 12s 4ms/step - loss: 0.4639 - accuracy: 0.8555 - val_loss: 0.4669 - val_accuracy: 0.8527\n",
            "Epoch 20/20\n",
            "3375/3375 [==============================] - 12s 4ms/step - loss: 0.4627 - accuracy: 0.8553 - val_loss: 0.4864 - val_accuracy: 0.8491\n",
            "Model Evaluation\n",
            "238/238 [==============================] - 1s 3ms/step - loss: 0.4954 - accuracy: 0.8455\n"
          ]
        },
        {
          "output_type": "display_data",
          "data": {
            "text/plain": [
              "<Figure size 576x360 with 1 Axes>"
            ],
            "image/png": "[encoded data removed]"
          },
          "metadata": {
            "needs_background": "light"
          }
        }
      ]
    },
    {
      "cell_type": "markdown",
      "metadata": {
        "id": "xvyKPb4DD25G"
      },
      "source": [
        "###[TO COMPLETE] Early stopping\n",
        "\n",
        "Early Stopping is a form of regularization used to avoid overfitting. It is designed to monitor the generalization error of one model and stop training when generalization error begins to degrade. In order to evaluate the generalization error, early stopping requires that a validation dataset is evaluated during training. Then, when the validation error does not improve for a specific number of epochs (`patience` hyper-parameter), it stops the training phase."
      ]
    },
    {
      "cell_type": "code",
      "metadata": {
        "id": "MqNOOZ11D7cq",
        "colab": {
          "base_uri": "https://localhost:8080/",
          "height": 579
        },
        "outputId": "19cb28de-1dd7-4cbf-bceb-75158a146eb3"
      },
      "source": [
        "#[TO COMPLETE] insert the model that you previously defined that overfit the \n",
        "#trainnig data\n",
        "model = keras.models.Sequential()\n",
        "model.add(tf.keras.Input(shape=(num_words,)))\n",
        "model.add(keras.layers.Dense(111, activation=\"relu\"))\n",
        "model.add(keras.layers.Dense(88, activation=\"relu\"))\n",
        "model.add(keras.layers.Dense(36, activation=\"relu\"))\n",
        "model.add(keras.layers.Dense(4, activation=\"softmax\"))\n",
        "\n",
        "\n",
        "model.compile(loss=\"sparse_categorical_crossentropy\",\n",
        "              optimizer=keras.optimizers.Adam(learning_rate=1e-3),#[TO COMPLETE] learning rate\n",
        "\n",
        "              metrics=[\"accuracy\"])\n",
        "\n",
        "#Let's define a log dir in order to save the checkpoint file\n",
        "logdir = os.path.join(os.curdir, \"my_logs\", \"run_{}\".format(time.time()))\n",
        "\n",
        "#In Keras the early stopping is manage by using the callbacks argument.\n",
        "callbacks = [\n",
        "    keras.callbacks.TensorBoard(logdir),\n",
        "    keras.callbacks.EarlyStopping(patience=3),#[TO COMPLETE] play with patience and find the value that prevents the model from overfitting.\n",
        "\n",
        "\n",
        "    #Saving the checkpoints file allows to load the \"best\" model when the Early \n",
        "    #stopping detect that the generalization error degrade (after 'patience' epochs)\n",
        "    keras.callbacks.ModelCheckpoint(\"my_mnist_model.h5\", save_best_only=True),\n",
        "]\n",
        "\n",
        "history = model.fit(X_train, y_train, epochs=20,#[TO COMPLETE] epochs\n",
        "                    validation_data=(X_valid, y_valid),\n",
        "                    callbacks=callbacks)\n",
        "\n",
        "print(\"Model Evaluation\")\n",
        "#The early stopping stopped training after few epochs without progress, so your\n",
        "#model may already have started to overfit the training set. Since the \n",
        "#ModelCheckpoint callback only saved the best models (on the validation set) the\n",
        "#last saved model is the best on the validation set.\n",
        "model = keras.models.load_model(\"my_mnist_model.h5\")\n",
        "model.evaluate(X_test, y_test)\n",
        "plot_learning_curves(history)"
      ],
      "execution_count": 22,
      "outputs": [
        {
          "output_type": "stream",
          "name": "stdout",
          "text": [
            "Epoch 1/20\n",
            "3375/3375 [==============================] - 11s 3ms/step - loss: 0.4522 - accuracy: 0.8337 - val_loss: 0.4133 - val_accuracy: 0.8511\n",
            "Epoch 2/20\n",
            "3375/3375 [==============================] - 10s 3ms/step - loss: 0.3654 - accuracy: 0.8662 - val_loss: 0.3939 - val_accuracy: 0.8609\n",
            "Epoch 3/20\n",
            "3375/3375 [==============================] - 10s 3ms/step - loss: 0.3056 - accuracy: 0.8903 - val_loss: 0.3937 - val_accuracy: 0.8618\n",
            "Epoch 4/20\n",
            "3375/3375 [==============================] - 10s 3ms/step - loss: 0.2480 - accuracy: 0.9122 - val_loss: 0.4279 - val_accuracy: 0.8587\n",
            "Epoch 5/20\n",
            "3375/3375 [==============================] - 10s 3ms/step - loss: 0.1977 - accuracy: 0.9294 - val_loss: 0.4733 - val_accuracy: 0.8540\n",
            "Epoch 6/20\n",
            "3375/3375 [==============================] - 10s 3ms/step - loss: 0.1560 - accuracy: 0.9441 - val_loss: 0.5422 - val_accuracy: 0.8488\n",
            "Model Evaluation\n",
            "238/238 [==============================] - 1s 2ms/step - loss: 0.3910 - accuracy: 0.8630\n"
          ]
        },
        {
          "output_type": "display_data",
          "data": {
            "text/plain": [
              "<Figure size 576x360 with 1 Axes>"
            ],
            "image/png": "[encoded data removed]"
          },
          "metadata": {
            "needs_background": "light"
          }
        }
      ]
    },
    {
      "cell_type": "markdown",
      "metadata": {
        "id": "DCV8pwVzl9GK"
      },
      "source": [
        "\n",
        "## Exercise 2.3: Model Selection\n",
        "\n",
        "Hyperparameters are the parameters of the learning method itself which we have to specify a priori, i.e., before model fitting. In contrast, model parameters are parameters which arise as a result of the fit (the network weights). The aim of model selection is selecting the best hyperparameters for our deep network. Finding the right hyperparameters for a model can be crucial for the model performance on given data. For istance lets consider our model trained by using different values for the learning rate: "
      ]
    },
    {
      "cell_type": "code",
      "metadata": {
        "id": "Fw8Hs-AEmLKh"
      },
      "source": [
        "learning_rates = [1e-4, 1e-2, 1e-1]"
      ],
      "execution_count": 24,
      "outputs": []
    },
    {
      "cell_type": "code",
      "metadata": {
        "id": "mym4GOgUmWqD",
        "colab": {
          "base_uri": "https://localhost:8080/"
        },
        "outputId": "4e8cd143-6d74-4771-ef2d-627b9195ffab"
      },
      "source": [
        "histories = []\n",
        "for learning_rate in learning_rates:\n",
        "    model = keras.models.Sequential([\n",
        "                                    tf.keras.Input(shape=(num_words,)),\n",
        "                                    keras.layers.Dense(16, activation=\"relu\"),\n",
        "                                    keras.layers.Dense(16, activation=\"relu\"),\n",
        "                                    keras.layers.Dense(4, activation=\"softmax\")\n",
        "                                     ])\n",
        "    model.compile(loss=\"sparse_categorical_crossentropy\",\n",
        "              optimizer=keras.optimizers.Adam(learning_rate=learning_rate),\n",
        "              metrics=[\"accuracy\"])\n",
        "              \n",
        "    callbacks = [keras.callbacks.EarlyStopping(patience=2)]\n",
        "\n",
        "    history = model.fit(X_train, y_train,\n",
        "                        validation_data=(X_valid, y_valid), epochs=10,\n",
        "                        callbacks=callbacks)\n",
        "    histories.append(history)\n",
        "    print(\"evaluation on test set\")\n",
        "    model.evaluate(X_test, y_test)"
      ],
      "execution_count": 25,
      "outputs": [
        {
          "output_type": "stream",
          "name": "stdout",
          "text": [
            "Epoch 1/10\n",
            "3375/3375 [==============================] - 7s 2ms/step - loss: 0.8003 - accuracy: 0.7203 - val_loss: 0.5034 - val_accuracy: 0.8327\n",
            "Epoch 2/10\n",
            "3375/3375 [==============================] - 7s 2ms/step - loss: 0.4575 - accuracy: 0.8439 - val_loss: 0.4466 - val_accuracy: 0.8453\n",
            "Epoch 3/10\n",
            "3375/3375 [==============================] - 7s 2ms/step - loss: 0.4240 - accuracy: 0.8525 - val_loss: 0.4336 - val_accuracy: 0.8486\n",
            "Epoch 4/10\n",
            "3375/3375 [==============================] - 7s 2ms/step - loss: 0.4112 - accuracy: 0.8556 - val_loss: 0.4258 - val_accuracy: 0.8495\n",
            "Epoch 5/10\n",
            "3375/3375 [==============================] - 6s 2ms/step - loss: 0.4040 - accuracy: 0.8576 - val_loss: 0.4227 - val_accuracy: 0.8503\n",
            "Epoch 6/10\n",
            "3375/3375 [==============================] - 7s 2ms/step - loss: 0.3991 - accuracy: 0.8581 - val_loss: 0.4196 - val_accuracy: 0.8508\n",
            "Epoch 7/10\n",
            "3375/3375 [==============================] - 7s 2ms/step - loss: 0.3953 - accuracy: 0.8593 - val_loss: 0.4170 - val_accuracy: 0.8503\n",
            "Epoch 8/10\n",
            "3375/3375 [==============================] - 7s 2ms/step - loss: 0.3920 - accuracy: 0.8600 - val_loss: 0.4149 - val_accuracy: 0.8518\n",
            "Epoch 9/10\n",
            "3375/3375 [==============================] - 7s 2ms/step - loss: 0.3892 - accuracy: 0.8605 - val_loss: 0.4129 - val_accuracy: 0.8519\n",
            "Epoch 10/10\n",
            "3375/3375 [==============================] - 7s 2ms/step - loss: 0.3868 - accuracy: 0.8610 - val_loss: 0.4121 - val_accuracy: 0.8521\n",
            "evaluation on test set\n",
            "238/238 [==============================] - 1s 2ms/step - loss: 0.4211 - accuracy: 0.8486\n",
            "Epoch 1/10\n",
            "3375/3375 [==============================] - 7s 2ms/step - loss: 0.4658 - accuracy: 0.8316 - val_loss: 0.4396 - val_accuracy: 0.8428\n",
            "Epoch 2/10\n",
            "3375/3375 [==============================] - 7s 2ms/step - loss: 0.4087 - accuracy: 0.8528 - val_loss: 0.4119 - val_accuracy: 0.8541\n",
            "Epoch 3/10\n",
            "3375/3375 [==============================] - 7s 2ms/step - loss: 0.3906 - accuracy: 0.8590 - val_loss: 0.4184 - val_accuracy: 0.8509\n",
            "Epoch 4/10\n",
            "3375/3375 [==============================] - 7s 2ms/step - loss: 0.3758 - accuracy: 0.8642 - val_loss: 0.4266 - val_accuracy: 0.8510\n",
            "evaluation on test set\n",
            "238/238 [==============================] - 1s 2ms/step - loss: 0.4334 - accuracy: 0.8493\n",
            "Epoch 1/10\n",
            "3375/3375 [==============================] - 7s 2ms/step - loss: 0.6869 - accuracy: 0.7636 - val_loss: 0.6438 - val_accuracy: 0.8014\n",
            "Epoch 2/10\n",
            "3375/3375 [==============================] - 7s 2ms/step - loss: 0.6851 - accuracy: 0.7751 - val_loss: 0.7178 - val_accuracy: 0.7675\n",
            "Epoch 3/10\n",
            "3375/3375 [==============================] - 7s 2ms/step - loss: 0.7501 - accuracy: 0.7334 - val_loss: 0.8992 - val_accuracy: 0.6394\n",
            "evaluation on test set\n",
            "238/238 [==============================] - 1s 2ms/step - loss: 0.9024 - accuracy: 0.6362\n"
          ]
        }
      ]
    },
    {
      "cell_type": "markdown",
      "metadata": {
        "id": "RzTSjfwptkHJ"
      },
      "source": [
        "Let's plot the results"
      ]
    },
    {
      "cell_type": "code",
      "metadata": {
        "id": "cIlN1vlioIYh",
        "colab": {
          "base_uri": "https://localhost:8080/",
          "height": 978
        },
        "outputId": "13ebd125-80eb-435d-8c27-05e206affc1f"
      },
      "source": [
        "for learning_rate, history in zip(learning_rates, histories):\n",
        "    print(\"Learning rate:\", learning_rate)\n",
        "    plot_learning_acc_and_loss(history)"
      ],
      "execution_count": 26,
      "outputs": [
        {
          "output_type": "stream",
          "name": "stdout",
          "text": [
            "Learning rate: 0.0001\n"
          ]
        },
        {
          "output_type": "display_data",
          "data": {
            "text/plain": [
              "<Figure size 576x360 with 1 Axes>"
            ],
            "image/png": "[encoded data removed]"
          },
          "metadata": {
            "needs_background": "light"
          }
        },
        {
          "output_type": "stream",
          "name": "stdout",
          "text": [
            "Learning rate: 0.01\n"
          ]
        },
        {
          "output_type": "display_data",
          "data": {
            "text/plain": [
              "<Figure size 576x360 with 1 Axes>"
            ],
            "image/png": "[encoded data removed]"
          },
          "metadata": {
            "needs_background": "light"
          }
        },
        {
          "output_type": "stream",
          "name": "stdout",
          "text": [
            "Learning rate: 0.1\n"
          ]
        },
        {
          "output_type": "display_data",
          "data": {
            "text/plain": [
              "<Figure size 576x360 with 1 Axes>"
            ],
            "image/png": "[encoded data removed]"
          },
          "metadata": {
            "needs_background": "light"
          }
        }
      ]
    },
    {
      "cell_type": "markdown",
      "metadata": {
        "id": "_JntujSWq3e5"
      },
      "source": [
        "### [TO COMPLETE] GRID Search:\n",
        "\n",
        "Since a deep net has many hyperparameters, in order to find the best ones, we have to consider all the possible combinations of all of the possible values. One common method to perform this complex task is Grid-Search.\n",
        "Given a set of values for each hyper-parameter, Grid-Search will build a model on each parameter combination possible. It iterates through every parameter combination and stores a model for each combination. Finally, the model that obtained the best result on the validation set will be select.\n",
        "\n",
        "In order to perfrom Grid-Search we will use the `GridSearchCV` class from `scikit-learn`."
      ]
    },
    {
      "cell_type": "markdown",
      "metadata": {
        "id": "CPz629YSrDhN"
      },
      "source": [
        "Let's Create a `build_model()` function that takes two arguments, `n_neurons` and `learning_rate`, and builds, compiles and returns a model with the given number of of neurons and the given learning rate.\n",
        "In order to limit the time requirements of the process we will consider only these two hyper-paramters.\n",
        "\n",
        "[TO COMPLETE] in the following code cell define the `build_model` function."
      ]
    },
    {
      "cell_type": "code",
      "metadata": {
        "id": "oGSKWTTtqxZ4",
        "colab": {
          "base_uri": "https://localhost:8080/"
        },
        "outputId": "22f86268-2161-4c30-f91b-6650eae1c4ea"
      },
      "source": [
        "def build_model(n_units=30, learning_rate=1e-3):\n",
        "    # The function has to build a model similar to the ones we used in previuous execises:\n",
        "    #- a input layer \n",
        "    #- one or two Dense layers composed of n_units and that exploit Relu activation function \n",
        "    #- the output layer that uses the softmax activation function\n",
        "    # Then, the model has to be compiled.\n",
        "    model = keras.models.Sequential([tf.keras.Input(shape=(num_words,)),\n",
        "                                    keras.layers.Dense(n_units, activation=\"relu\"),\n",
        "                                    keras.layers.Dense(n_units, activation=\"relu\"),\n",
        "                                    keras.layers.Dense(4, activation=\"softmax\")\n",
        "                                     ])\n",
        "                                    #[TO COMPLETE]\n",
        "                                     \n",
        "    \n",
        "    # [TO COMPLETE] Then, the model has to be compiled.\n",
        "    model.compile(loss=\"sparse_categorical_crossentropy\",\n",
        "              optimizer=keras.optimizers.Adam(learning_rate=learning_rate),\n",
        "              metrics=[\"accuracy\"])\n",
        "    \n",
        "    return model\n",
        "\n",
        "    \n",
        "#Create a keras.wrappers.scikit_learn.KerasRegressor and pass the build_model \n",
        "#function to the constructor. This gives you a Scikit-Learn compatible predictor\n",
        "keras_reg = keras.wrappers.scikit_learn.KerasRegressor(build_model)"
      ],
      "execution_count": 27,
      "outputs": [
        {
          "output_type": "stream",
          "name": "stderr",
          "text": [
            "/usr/local/lib/python3.7/dist-packages/ipykernel_launcher.py:25: DeprecationWarning: KerasRegressor is deprecated, use Sci-Keras (https://github.com/adriangb/scikeras) instead. See https://www.adriangb.com/scikeras/stable/migration.html for help migrating.\n"
          ]
        }
      ]
    },
    {
      "cell_type": "markdown",
      "metadata": {
        "id": "PS6W3A2LxDg5"
      },
      "source": [
        "Let's define the lists of hyper-parameters' values. Also in this case, we use a very limited size lists, but in a real-world scenario a reasonable amount of possible values should be considered (try to add some values and check how much the time required to perform the Grid-Search increases)"
      ]
    },
    {
      "cell_type": "code",
      "metadata": {
        "id": "y-uldCW3ru24"
      },
      "source": [
        "param_distribs = {\n",
        "    \"n_units\": (30, 40, 60),# [TO COMPLETE] insert a list that contains few (2 or 3) reasonable value\n",
        "    \"learning_rate\": (1e-4, 1e-2, 1e-1)  #[TO COMPLETE] insert a list that contains few (2 or 3) reasonable values\n",
        "    #Check how the time required to perform GRID search increases when increasing the number of values for each hyper-parameter.\n",
        "}"
      ],
      "execution_count": 28,
      "outputs": []
    },
    {
      "cell_type": "markdown",
      "metadata": {
        "id": "bEiBxVYtx_sK"
      },
      "source": [
        "Use a `sklearn.model_selection.GridSearchCV` to search the hyperparameter space of your `KerasRegressor`"
      ]
    },
    {
      "cell_type": "code",
      "metadata": {
        "id": "iobF2Bvdr9ER"
      },
      "source": [
        "from sklearn.model_selection import GridSearchCV\n",
        "\n",
        "grid_search = GridSearchCV(keras_reg, param_distribs)"
      ],
      "execution_count": 29,
      "outputs": []
    },
    {
      "cell_type": "markdown",
      "metadata": {
        "id": "LVGMcZz_yKSX"
      },
      "source": [
        "Run the Grid-Search"
      ]
    },
    {
      "cell_type": "code",
      "metadata": {
        "id": "-BA3vgTjr-hw",
        "colab": {
          "base_uri": "https://localhost:8080/"
        },
        "outputId": "a608b431-8ef5-4ba5-905c-4cf7cdd06695"
      },
      "source": [
        "\n",
        "\n",
        "grid_search.fit(X_train.numpy(), y_train.numpy(), epochs=5,#The number of epochs can be modified (check what happens by increasing it)\n",
        "                validation_data=(X_valid.numpy(), y_valid.numpy()))"
      ],
      "execution_count": 30,
      "outputs": [
        {
          "output_type": "stream",
          "name": "stdout",
          "text": [
            "Epoch 1/5\n",
            "2700/2700 [==============================] - 7s 2ms/step - loss: 0.7848 - accuracy: 0.7283 - val_loss: 0.4862 - val_accuracy: 0.8330\n",
            "Epoch 2/5\n",
            "2700/2700 [==============================] - 6s 2ms/step - loss: 0.4437 - accuracy: 0.8465 - val_loss: 0.4385 - val_accuracy: 0.8468\n",
            "Epoch 3/5\n",
            "2700/2700 [==============================] - 6s 2ms/step - loss: 0.4132 - accuracy: 0.8545 - val_loss: 0.4264 - val_accuracy: 0.8502\n",
            "Epoch 4/5\n",
            "2700/2700 [==============================] - 6s 2ms/step - loss: 0.4009 - accuracy: 0.8586 - val_loss: 0.4196 - val_accuracy: 0.8512\n",
            "Epoch 5/5\n",
            "2700/2700 [==============================] - 6s 2ms/step - loss: 0.3937 - accuracy: 0.8597 - val_loss: 0.4163 - val_accuracy: 0.8520\n",
            "675/675 [==============================] - 1s 1ms/step - loss: 0.4035 - accuracy: 0.8558\n",
            "Epoch 1/5\n",
            "2700/2700 [==============================] - 7s 2ms/step - loss: 0.7787 - accuracy: 0.7288 - val_loss: 0.4815 - val_accuracy: 0.8367\n",
            "Epoch 2/5\n",
            "2700/2700 [==============================] - 6s 2ms/step - loss: 0.4409 - accuracy: 0.8476 - val_loss: 0.4389 - val_accuracy: 0.8487\n",
            "Epoch 3/5\n",
            "2700/2700 [==============================] - 6s 2ms/step - loss: 0.4123 - accuracy: 0.8549 - val_loss: 0.4289 - val_accuracy: 0.8515\n",
            "Epoch 4/5\n",
            "2700/2700 [==============================] - 6s 2ms/step - loss: 0.4003 - accuracy: 0.8581 - val_loss: 0.4224 - val_accuracy: 0.8517\n",
            "Epoch 5/5\n",
            "2700/2700 [==============================] - 6s 2ms/step - loss: 0.3930 - accuracy: 0.8597 - val_loss: 0.4197 - val_accuracy: 0.8512\n",
            "675/675 [==============================] - 1s 1ms/step - loss: 0.4117 - accuracy: 0.8529\n",
            "Epoch 1/5\n",
            "2700/2700 [==============================] - 7s 2ms/step - loss: 0.7898 - accuracy: 0.7207 - val_loss: 0.4839 - val_accuracy: 0.8347\n",
            "Epoch 2/5\n",
            "2700/2700 [==============================] - 6s 2ms/step - loss: 0.4410 - accuracy: 0.8476 - val_loss: 0.4394 - val_accuracy: 0.8479\n",
            "Epoch 3/5\n",
            "2700/2700 [==============================] - 6s 2ms/step - loss: 0.4114 - accuracy: 0.8558 - val_loss: 0.4281 - val_accuracy: 0.8512\n",
            "Epoch 4/5\n",
            "2700/2700 [==============================] - 6s 2ms/step - loss: 0.3990 - accuracy: 0.8593 - val_loss: 0.4229 - val_accuracy: 0.8505\n",
            "Epoch 5/5\n",
            "2700/2700 [==============================] - 6s 2ms/step - loss: 0.3917 - accuracy: 0.8614 - val_loss: 0.4185 - val_accuracy: 0.8518\n",
            "675/675 [==============================] - 1s 1ms/step - loss: 0.4244 - accuracy: 0.8472\n",
            "Epoch 1/5\n",
            "2700/2700 [==============================] - 7s 2ms/step - loss: 0.7700 - accuracy: 0.7279 - val_loss: 0.4784 - val_accuracy: 0.8365\n",
            "Epoch 2/5\n",
            "2700/2700 [==============================] - 7s 3ms/step - loss: 0.4413 - accuracy: 0.8468 - val_loss: 0.4372 - val_accuracy: 0.8485\n",
            "Epoch 3/5\n",
            "2700/2700 [==============================] - 6s 2ms/step - loss: 0.4141 - accuracy: 0.8538 - val_loss: 0.4263 - val_accuracy: 0.8484\n",
            "Epoch 4/5\n",
            "2700/2700 [==============================] - 6s 2ms/step - loss: 0.4020 - accuracy: 0.8567 - val_loss: 0.4216 - val_accuracy: 0.8512\n",
            "Epoch 5/5\n",
            "2700/2700 [==============================] - 6s 2ms/step - loss: 0.3942 - accuracy: 0.8589 - val_loss: 0.4153 - val_accuracy: 0.8519\n",
            "675/675 [==============================] - 1s 1ms/step - loss: 0.4053 - accuracy: 0.8558\n",
            "Epoch 1/5\n",
            "2700/2700 [==============================] - 6s 2ms/step - loss: 0.7646 - accuracy: 0.7289 - val_loss: 0.4814 - val_accuracy: 0.8321\n",
            "Epoch 2/5\n",
            "2700/2700 [==============================] - 6s 2ms/step - loss: 0.4416 - accuracy: 0.8473 - val_loss: 0.4416 - val_accuracy: 0.8457\n",
            "Epoch 3/5\n",
            "2700/2700 [==============================] - 6s 2ms/step - loss: 0.4135 - accuracy: 0.8543 - val_loss: 0.4300 - val_accuracy: 0.8490\n",
            "Epoch 4/5\n",
            "2700/2700 [==============================] - 6s 2ms/step - loss: 0.4011 - accuracy: 0.8577 - val_loss: 0.4244 - val_accuracy: 0.8513\n",
            "Epoch 5/5\n",
            "2700/2700 [==============================] - 6s 2ms/step - loss: 0.3936 - accuracy: 0.8593 - val_loss: 0.4205 - val_accuracy: 0.8512\n",
            "675/675 [==============================] - 1s 2ms/step - loss: 0.4200 - accuracy: 0.8512\n",
            "Epoch 1/5\n",
            "2700/2700 [==============================] - 7s 2ms/step - loss: 0.7528 - accuracy: 0.7337 - val_loss: 0.4706 - val_accuracy: 0.8393\n",
            "Epoch 2/5\n",
            "2700/2700 [==============================] - 6s 2ms/step - loss: 0.4340 - accuracy: 0.8494 - val_loss: 0.4321 - val_accuracy: 0.8490\n",
            "Epoch 3/5\n",
            "2700/2700 [==============================] - 6s 2ms/step - loss: 0.4081 - accuracy: 0.8562 - val_loss: 0.4221 - val_accuracy: 0.8510\n",
            "Epoch 4/5\n",
            "2700/2700 [==============================] - 6s 2ms/step - loss: 0.3972 - accuracy: 0.8594 - val_loss: 0.4161 - val_accuracy: 0.8524\n",
            "Epoch 5/5\n",
            "2700/2700 [==============================] - 6s 2ms/step - loss: 0.3903 - accuracy: 0.8604 - val_loss: 0.4135 - val_accuracy: 0.8530\n",
            "675/675 [==============================] - 1s 1ms/step - loss: 0.4017 - accuracy: 0.8553\n",
            "Epoch 1/5\n",
            "2700/2700 [==============================] - 7s 2ms/step - loss: 0.7310 - accuracy: 0.7390 - val_loss: 0.4666 - val_accuracy: 0.8396\n",
            "Epoch 2/5\n",
            "2700/2700 [==============================] - 6s 2ms/step - loss: 0.4321 - accuracy: 0.8504 - val_loss: 0.4333 - val_accuracy: 0.8500\n",
            "Epoch 3/5\n",
            "2700/2700 [==============================] - 7s 2ms/step - loss: 0.4073 - accuracy: 0.8564 - val_loss: 0.4252 - val_accuracy: 0.8521\n",
            "Epoch 4/5\n",
            "2700/2700 [==============================] - 7s 2ms/step - loss: 0.3961 - accuracy: 0.8596 - val_loss: 0.4198 - val_accuracy: 0.8516\n",
            "Epoch 5/5\n",
            "2700/2700 [==============================] - 6s 2ms/step - loss: 0.3888 - accuracy: 0.8612 - val_loss: 0.4176 - val_accuracy: 0.8529\n",
            "675/675 [==============================] - 1s 1ms/step - loss: 0.4095 - accuracy: 0.8536\n",
            "Epoch 1/5\n",
            "2700/2700 [==============================] - 7s 2ms/step - loss: 0.7139 - accuracy: 0.7514 - val_loss: 0.4667 - val_accuracy: 0.8418\n",
            "Epoch 2/5\n",
            "2700/2700 [==============================] - 8s 3ms/step - loss: 0.4282 - accuracy: 0.8515 - val_loss: 0.4318 - val_accuracy: 0.8505\n",
            "Epoch 3/5\n",
            "2700/2700 [==============================] - 7s 2ms/step - loss: 0.4044 - accuracy: 0.8575 - val_loss: 0.4234 - val_accuracy: 0.8508\n",
            "Epoch 4/5\n",
            "2700/2700 [==============================] - 7s 2ms/step - loss: 0.3937 - accuracy: 0.8607 - val_loss: 0.4190 - val_accuracy: 0.8496\n",
            "Epoch 5/5\n",
            "2700/2700 [==============================] - 7s 2ms/step - loss: 0.3871 - accuracy: 0.8626 - val_loss: 0.4148 - val_accuracy: 0.8523\n",
            "675/675 [==============================] - 1s 2ms/step - loss: 0.4225 - accuracy: 0.8470\n",
            "Epoch 1/5\n",
            "2700/2700 [==============================] - 7s 2ms/step - loss: 0.7365 - accuracy: 0.7441 - val_loss: 0.4709 - val_accuracy: 0.8398\n",
            "Epoch 2/5\n",
            "2700/2700 [==============================] - 7s 2ms/step - loss: 0.4356 - accuracy: 0.8471 - val_loss: 0.4336 - val_accuracy: 0.8482\n",
            "Epoch 3/5\n",
            "2700/2700 [==============================] - 7s 2ms/step - loss: 0.4105 - accuracy: 0.8536 - val_loss: 0.4239 - val_accuracy: 0.8496\n",
            "Epoch 4/5\n",
            "2700/2700 [==============================] - 6s 2ms/step - loss: 0.3996 - accuracy: 0.8573 - val_loss: 0.4209 - val_accuracy: 0.8509\n",
            "Epoch 5/5\n",
            "2700/2700 [==============================] - 7s 2ms/step - loss: 0.3928 - accuracy: 0.8587 - val_loss: 0.4149 - val_accuracy: 0.8519\n",
            "675/675 [==============================] - 1s 2ms/step - loss: 0.4046 - accuracy: 0.8556\n",
            "Epoch 1/5\n",
            "2700/2700 [==============================] - 7s 2ms/step - loss: 0.7232 - accuracy: 0.7457 - val_loss: 0.4647 - val_accuracy: 0.8414\n",
            "Epoch 2/5\n",
            "2700/2700 [==============================] - 7s 2ms/step - loss: 0.4302 - accuracy: 0.8503 - val_loss: 0.4332 - val_accuracy: 0.8480\n",
            "Epoch 3/5\n",
            "2700/2700 [==============================] - 6s 2ms/step - loss: 0.4068 - accuracy: 0.8565 - val_loss: 0.4245 - val_accuracy: 0.8509\n",
            "Epoch 4/5\n",
            "2700/2700 [==============================] - 7s 2ms/step - loss: 0.3962 - accuracy: 0.8588 - val_loss: 0.4203 - val_accuracy: 0.8518\n",
            "Epoch 5/5\n",
            "2700/2700 [==============================] - 7s 2ms/step - loss: 0.3896 - accuracy: 0.8607 - val_loss: 0.4167 - val_accuracy: 0.8522\n",
            "675/675 [==============================] - 1s 2ms/step - loss: 0.4183 - accuracy: 0.8515\n",
            "Epoch 1/5\n",
            "2700/2700 [==============================] - 8s 3ms/step - loss: 0.6795 - accuracy: 0.7605 - val_loss: 0.4563 - val_accuracy: 0.8445\n",
            "Epoch 2/5\n",
            "2700/2700 [==============================] - 7s 3ms/step - loss: 0.4247 - accuracy: 0.8525 - val_loss: 0.4286 - val_accuracy: 0.8498\n",
            "Epoch 3/5\n",
            "2700/2700 [==============================] - 7s 3ms/step - loss: 0.4043 - accuracy: 0.8572 - val_loss: 0.4232 - val_accuracy: 0.8511\n",
            "Epoch 4/5\n",
            "2700/2700 [==============================] - 7s 3ms/step - loss: 0.3941 - accuracy: 0.8602 - val_loss: 0.4177 - val_accuracy: 0.8517\n",
            "Epoch 5/5\n",
            "2700/2700 [==============================] - 7s 3ms/step - loss: 0.3863 - accuracy: 0.8616 - val_loss: 0.4151 - val_accuracy: 0.8522\n",
            "675/675 [==============================] - 1s 1ms/step - loss: 0.4009 - accuracy: 0.8590\n",
            "Epoch 1/5\n",
            "2700/2700 [==============================] - 7s 3ms/step - loss: 0.6751 - accuracy: 0.7660 - val_loss: 0.4553 - val_accuracy: 0.8441\n",
            "Epoch 2/5\n",
            "2700/2700 [==============================] - 7s 2ms/step - loss: 0.4234 - accuracy: 0.8518 - val_loss: 0.4312 - val_accuracy: 0.8497\n",
            "Epoch 3/5\n",
            "2700/2700 [==============================] - 7s 3ms/step - loss: 0.4034 - accuracy: 0.8570 - val_loss: 0.4260 - val_accuracy: 0.8522\n",
            "Epoch 4/5\n",
            "2700/2700 [==============================] - 7s 2ms/step - loss: 0.3933 - accuracy: 0.8591 - val_loss: 0.4202 - val_accuracy: 0.8498\n",
            "Epoch 5/5\n",
            "2700/2700 [==============================] - 7s 2ms/step - loss: 0.3858 - accuracy: 0.8619 - val_loss: 0.4178 - val_accuracy: 0.8496\n",
            "675/675 [==============================] - 1s 2ms/step - loss: 0.4110 - accuracy: 0.8506\n",
            "Epoch 1/5\n",
            "2700/2700 [==============================] - 7s 2ms/step - loss: 0.6778 - accuracy: 0.7619 - val_loss: 0.4566 - val_accuracy: 0.8446\n",
            "Epoch 2/5\n",
            "2700/2700 [==============================] - 7s 2ms/step - loss: 0.4205 - accuracy: 0.8522 - val_loss: 0.4283 - val_accuracy: 0.8495\n",
            "Epoch 3/5\n",
            "2700/2700 [==============================] - 7s 2ms/step - loss: 0.4002 - accuracy: 0.8580 - val_loss: 0.4218 - val_accuracy: 0.8500\n",
            "Epoch 4/5\n",
            "2700/2700 [==============================] - 7s 3ms/step - loss: 0.3899 - accuracy: 0.8609 - val_loss: 0.4174 - val_accuracy: 0.8499\n",
            "Epoch 5/5\n",
            "2700/2700 [==============================] - 7s 2ms/step - loss: 0.3823 - accuracy: 0.8633 - val_loss: 0.4128 - val_accuracy: 0.8533\n",
            "675/675 [==============================] - 1s 2ms/step - loss: 0.4204 - accuracy: 0.8475\n",
            "Epoch 1/5\n",
            "2700/2700 [==============================] - 7s 3ms/step - loss: 0.6753 - accuracy: 0.7689 - val_loss: 0.4545 - val_accuracy: 0.8426\n",
            "Epoch 2/5\n",
            "2700/2700 [==============================] - 7s 2ms/step - loss: 0.4250 - accuracy: 0.8503 - val_loss: 0.4291 - val_accuracy: 0.8487\n",
            "Epoch 3/5\n",
            "2700/2700 [==============================] - 7s 3ms/step - loss: 0.4052 - accuracy: 0.8554 - val_loss: 0.4226 - val_accuracy: 0.8503\n",
            "Epoch 4/5\n",
            "2700/2700 [==============================] - 7s 2ms/step - loss: 0.3954 - accuracy: 0.8591 - val_loss: 0.4212 - val_accuracy: 0.8512\n",
            "Epoch 5/5\n",
            "2700/2700 [==============================] - 7s 3ms/step - loss: 0.3881 - accuracy: 0.8610 - val_loss: 0.4148 - val_accuracy: 0.8515\n",
            "675/675 [==============================] - 1s 2ms/step - loss: 0.4041 - accuracy: 0.8568\n",
            "Epoch 1/5\n",
            "2700/2700 [==============================] - 7s 3ms/step - loss: 0.6830 - accuracy: 0.7638 - val_loss: 0.4559 - val_accuracy: 0.8417\n",
            "Epoch 2/5\n",
            "2700/2700 [==============================] - 7s 3ms/step - loss: 0.4216 - accuracy: 0.8520 - val_loss: 0.4292 - val_accuracy: 0.8497\n",
            "Epoch 3/5\n",
            "2700/2700 [==============================] - 7s 3ms/step - loss: 0.4012 - accuracy: 0.8575 - val_loss: 0.4216 - val_accuracy: 0.8506\n",
            "Epoch 4/5\n",
            "2700/2700 [==============================] - 7s 3ms/step - loss: 0.3909 - accuracy: 0.8599 - val_loss: 0.4171 - val_accuracy: 0.8514\n",
            "Epoch 5/5\n",
            "2700/2700 [==============================] - 7s 2ms/step - loss: 0.3836 - accuracy: 0.8617 - val_loss: 0.4133 - val_accuracy: 0.8509\n",
            "675/675 [==============================] - 1s 2ms/step - loss: 0.4160 - accuracy: 0.8531\n",
            "Epoch 1/5\n",
            "2700/2700 [==============================] - 7s 2ms/step - loss: 0.4746 - accuracy: 0.8289 - val_loss: 0.4487 - val_accuracy: 0.8381\n",
            "Epoch 2/5\n",
            "2700/2700 [==============================] - 6s 2ms/step - loss: 0.4075 - accuracy: 0.8525 - val_loss: 0.4297 - val_accuracy: 0.8502\n",
            "Epoch 3/5\n",
            "2700/2700 [==============================] - 6s 2ms/step - loss: 0.3730 - accuracy: 0.8632 - val_loss: 0.4436 - val_accuracy: 0.8456\n",
            "Epoch 4/5\n",
            "2700/2700 [==============================] - 6s 2ms/step - loss: 0.3477 - accuracy: 0.8727 - val_loss: 0.4287 - val_accuracy: 0.8489\n",
            "Epoch 5/5\n",
            "2700/2700 [==============================] - 6s 2ms/step - loss: 0.3255 - accuracy: 0.8821 - val_loss: 0.4464 - val_accuracy: 0.8467\n",
            "675/675 [==============================] - 1s 2ms/step - loss: 0.4351 - accuracy: 0.8517\n",
            "Epoch 1/5\n",
            "2700/2700 [==============================] - 7s 2ms/step - loss: 0.4721 - accuracy: 0.8290 - val_loss: 0.4307 - val_accuracy: 0.8454\n",
            "Epoch 2/5\n",
            "2700/2700 [==============================] - 6s 2ms/step - loss: 0.4034 - accuracy: 0.8531 - val_loss: 0.4242 - val_accuracy: 0.8499\n",
            "Epoch 3/5\n",
            "2700/2700 [==============================] - 6s 2ms/step - loss: 0.3713 - accuracy: 0.8641 - val_loss: 0.4297 - val_accuracy: 0.8490\n",
            "Epoch 4/5\n",
            "2700/2700 [==============================] - 6s 2ms/step - loss: 0.3471 - accuracy: 0.8726 - val_loss: 0.4252 - val_accuracy: 0.8456\n",
            "Epoch 5/5\n",
            "2700/2700 [==============================] - 6s 2ms/step - loss: 0.3244 - accuracy: 0.8820 - val_loss: 0.4532 - val_accuracy: 0.8464\n",
            "675/675 [==============================] - 1s 1ms/step - loss: 0.4481 - accuracy: 0.8450\n",
            "Epoch 1/5\n",
            "2700/2700 [==============================] - 7s 2ms/step - loss: 0.4692 - accuracy: 0.8317 - val_loss: 0.4318 - val_accuracy: 0.8449\n",
            "Epoch 2/5\n",
            "2700/2700 [==============================] - 6s 2ms/step - loss: 0.4042 - accuracy: 0.8531 - val_loss: 0.4190 - val_accuracy: 0.8476\n",
            "Epoch 3/5\n",
            "2700/2700 [==============================] - 6s 2ms/step - loss: 0.3713 - accuracy: 0.8650 - val_loss: 0.4240 - val_accuracy: 0.8514\n",
            "Epoch 4/5\n",
            "2700/2700 [==============================] - 6s 2ms/step - loss: 0.3465 - accuracy: 0.8735 - val_loss: 0.4275 - val_accuracy: 0.8493\n",
            "Epoch 5/5\n",
            "2700/2700 [==============================] - 6s 2ms/step - loss: 0.3251 - accuracy: 0.8817 - val_loss: 0.4419 - val_accuracy: 0.8493\n",
            "675/675 [==============================] - 1s 2ms/step - loss: 0.4528 - accuracy: 0.8451\n",
            "Epoch 1/5\n",
            "2700/2700 [==============================] - 7s 2ms/step - loss: 0.4753 - accuracy: 0.8271 - val_loss: 0.4453 - val_accuracy: 0.8412\n",
            "Epoch 2/5\n",
            "2700/2700 [==============================] - 6s 2ms/step - loss: 0.4072 - accuracy: 0.8525 - val_loss: 0.4260 - val_accuracy: 0.8449\n",
            "Epoch 3/5\n",
            "2700/2700 [==============================] - 6s 2ms/step - loss: 0.3753 - accuracy: 0.8637 - val_loss: 0.4233 - val_accuracy: 0.8481\n",
            "Epoch 4/5\n",
            "2700/2700 [==============================] - 6s 2ms/step - loss: 0.3485 - accuracy: 0.8749 - val_loss: 0.4290 - val_accuracy: 0.8497\n",
            "Epoch 5/5\n",
            "2700/2700 [==============================] - 6s 2ms/step - loss: 0.3261 - accuracy: 0.8824 - val_loss: 0.4438 - val_accuracy: 0.8457\n",
            "675/675 [==============================] - 1s 1ms/step - loss: 0.4361 - accuracy: 0.8487\n",
            "Epoch 1/5\n",
            "2700/2700 [==============================] - 7s 2ms/step - loss: 0.4710 - accuracy: 0.8307 - val_loss: 0.4451 - val_accuracy: 0.8401\n",
            "Epoch 2/5\n",
            "2700/2700 [==============================] - 6s 2ms/step - loss: 0.4055 - accuracy: 0.8532 - val_loss: 0.4251 - val_accuracy: 0.8488\n",
            "Epoch 3/5\n",
            "2700/2700 [==============================] - 6s 2ms/step - loss: 0.3729 - accuracy: 0.8647 - val_loss: 0.4268 - val_accuracy: 0.8487\n",
            "Epoch 4/5\n",
            "2700/2700 [==============================] - 6s 2ms/step - loss: 0.3466 - accuracy: 0.8755 - val_loss: 0.4374 - val_accuracy: 0.8447\n",
            "Epoch 5/5\n",
            "2700/2700 [==============================] - 6s 2ms/step - loss: 0.3225 - accuracy: 0.8841 - val_loss: 0.4333 - val_accuracy: 0.8490\n",
            "675/675 [==============================] - 1s 2ms/step - loss: 0.4460 - accuracy: 0.8481\n",
            "Epoch 1/5\n",
            "2700/2700 [==============================] - 7s 2ms/step - loss: 0.4779 - accuracy: 0.8275 - val_loss: 0.4459 - val_accuracy: 0.8447\n",
            "Epoch 2/5\n",
            "2700/2700 [==============================] - 6s 2ms/step - loss: 0.4068 - accuracy: 0.8534 - val_loss: 0.4278 - val_accuracy: 0.8518\n",
            "Epoch 3/5\n",
            "2700/2700 [==============================] - 6s 2ms/step - loss: 0.3703 - accuracy: 0.8665 - val_loss: 0.4253 - val_accuracy: 0.8542\n",
            "Epoch 4/5\n",
            "2700/2700 [==============================] - 6s 2ms/step - loss: 0.3417 - accuracy: 0.8776 - val_loss: 0.4282 - val_accuracy: 0.8495\n",
            "Epoch 5/5\n",
            "2700/2700 [==============================] - 8s 3ms/step - loss: 0.3150 - accuracy: 0.8876 - val_loss: 0.4522 - val_accuracy: 0.8466\n",
            "675/675 [==============================] - 1s 2ms/step - loss: 0.4383 - accuracy: 0.8490\n",
            "Epoch 1/5\n",
            "2700/2700 [==============================] - 8s 2ms/step - loss: 0.4736 - accuracy: 0.8284 - val_loss: 0.4330 - val_accuracy: 0.8452\n",
            "Epoch 2/5\n",
            "2700/2700 [==============================] - 6s 2ms/step - loss: 0.4016 - accuracy: 0.8543 - val_loss: 0.4352 - val_accuracy: 0.8484\n",
            "Epoch 3/5\n",
            "2700/2700 [==============================] - 7s 2ms/step - loss: 0.3666 - accuracy: 0.8662 - val_loss: 0.4287 - val_accuracy: 0.8503\n",
            "Epoch 4/5\n",
            "2700/2700 [==============================] - 6s 2ms/step - loss: 0.3374 - accuracy: 0.8776 - val_loss: 0.4340 - val_accuracy: 0.8514\n",
            "Epoch 5/5\n",
            "2700/2700 [==============================] - 6s 2ms/step - loss: 0.3110 - accuracy: 0.8885 - val_loss: 0.4534 - val_accuracy: 0.8452\n",
            "675/675 [==============================] - 1s 2ms/step - loss: 0.4459 - accuracy: 0.8437\n",
            "Epoch 1/5\n",
            "2700/2700 [==============================] - 7s 2ms/step - loss: 0.4701 - accuracy: 0.8305 - val_loss: 0.4336 - val_accuracy: 0.8463\n",
            "Epoch 2/5\n",
            "2700/2700 [==============================] - 7s 2ms/step - loss: 0.3970 - accuracy: 0.8558 - val_loss: 0.4228 - val_accuracy: 0.8476\n",
            "Epoch 3/5\n",
            "2700/2700 [==============================] - 6s 2ms/step - loss: 0.3617 - accuracy: 0.8690 - val_loss: 0.4286 - val_accuracy: 0.8487\n",
            "Epoch 4/5\n",
            "2700/2700 [==============================] - 8s 3ms/step - loss: 0.3291 - accuracy: 0.8816 - val_loss: 0.4360 - val_accuracy: 0.8497\n",
            "Epoch 5/5\n",
            "2700/2700 [==============================] - 6s 2ms/step - loss: 0.3016 - accuracy: 0.8918 - val_loss: 0.4542 - val_accuracy: 0.8461\n",
            "675/675 [==============================] - 1s 2ms/step - loss: 0.4715 - accuracy: 0.8401\n",
            "Epoch 1/5\n",
            "2700/2700 [==============================] - 7s 2ms/step - loss: 0.4754 - accuracy: 0.8275 - val_loss: 0.4386 - val_accuracy: 0.8442\n",
            "Epoch 2/5\n",
            "2700/2700 [==============================] - 7s 3ms/step - loss: 0.4028 - accuracy: 0.8536 - val_loss: 0.4223 - val_accuracy: 0.8464\n",
            "Epoch 3/5\n",
            "2700/2700 [==============================] - 8s 3ms/step - loss: 0.3669 - accuracy: 0.8678 - val_loss: 0.4265 - val_accuracy: 0.8475\n",
            "Epoch 4/5\n",
            "2700/2700 [==============================] - 6s 2ms/step - loss: 0.3358 - accuracy: 0.8803 - val_loss: 0.4501 - val_accuracy: 0.8390\n",
            "Epoch 5/5\n",
            "2700/2700 [==============================] - 6s 2ms/step - loss: 0.3089 - accuracy: 0.8879 - val_loss: 0.4338 - val_accuracy: 0.8460\n",
            "675/675 [==============================] - 1s 1ms/step - loss: 0.4343 - accuracy: 0.8506\n",
            "Epoch 1/5\n",
            "2700/2700 [==============================] - 7s 2ms/step - loss: 0.4714 - accuracy: 0.8299 - val_loss: 0.4449 - val_accuracy: 0.8390\n",
            "Epoch 2/5\n",
            "2700/2700 [==============================] - 6s 2ms/step - loss: 0.3981 - accuracy: 0.8562 - val_loss: 0.4165 - val_accuracy: 0.8517\n",
            "Epoch 3/5\n",
            "2700/2700 [==============================] - 6s 2ms/step - loss: 0.3610 - accuracy: 0.8695 - val_loss: 0.4221 - val_accuracy: 0.8505\n",
            "Epoch 4/5\n",
            "2700/2700 [==============================] - 6s 2ms/step - loss: 0.3290 - accuracy: 0.8812 - val_loss: 0.4316 - val_accuracy: 0.8494\n",
            "Epoch 5/5\n",
            "2700/2700 [==============================] - 7s 2ms/step - loss: 0.2999 - accuracy: 0.8913 - val_loss: 0.4412 - val_accuracy: 0.8490\n",
            "675/675 [==============================] - 1s 2ms/step - loss: 0.4529 - accuracy: 0.8463\n",
            "Epoch 1/5\n",
            "2700/2700 [==============================] - 7s 3ms/step - loss: 0.4778 - accuracy: 0.8275 - val_loss: 0.4521 - val_accuracy: 0.8375\n",
            "Epoch 2/5\n",
            "2700/2700 [==============================] - 7s 3ms/step - loss: 0.4031 - accuracy: 0.8545 - val_loss: 0.4214 - val_accuracy: 0.8501\n",
            "Epoch 3/5\n",
            "2700/2700 [==============================] - 7s 3ms/step - loss: 0.3623 - accuracy: 0.8681 - val_loss: 0.4387 - val_accuracy: 0.8499\n",
            "Epoch 4/5\n",
            "2700/2700 [==============================] - 7s 3ms/step - loss: 0.3254 - accuracy: 0.8827 - val_loss: 0.4335 - val_accuracy: 0.8471\n",
            "Epoch 5/5\n",
            "2700/2700 [==============================] - 7s 3ms/step - loss: 0.2927 - accuracy: 0.8947 - val_loss: 0.4634 - val_accuracy: 0.8435\n",
            "675/675 [==============================] - 1s 2ms/step - loss: 0.4579 - accuracy: 0.8458\n",
            "Epoch 1/5\n",
            "2700/2700 [==============================] - 8s 3ms/step - loss: 0.4754 - accuracy: 0.8281 - val_loss: 0.4387 - val_accuracy: 0.8446\n",
            "Epoch 2/5\n",
            "2700/2700 [==============================] - 7s 3ms/step - loss: 0.3998 - accuracy: 0.8556 - val_loss: 0.4314 - val_accuracy: 0.8490\n",
            "Epoch 3/5\n",
            "2700/2700 [==============================] - 7s 3ms/step - loss: 0.3573 - accuracy: 0.8699 - val_loss: 0.4420 - val_accuracy: 0.8486\n",
            "Epoch 4/5\n",
            "2700/2700 [==============================] - 7s 3ms/step - loss: 0.3211 - accuracy: 0.8838 - val_loss: 0.4316 - val_accuracy: 0.8474\n",
            "Epoch 5/5\n",
            "2700/2700 [==============================] - 7s 3ms/step - loss: 0.2878 - accuracy: 0.8966 - val_loss: 0.4658 - val_accuracy: 0.8499\n",
            "675/675 [==============================] - 1s 2ms/step - loss: 0.4716 - accuracy: 0.8420\n",
            "Epoch 1/5\n",
            "2700/2700 [==============================] - 8s 3ms/step - loss: 0.4736 - accuracy: 0.8307 - val_loss: 0.4326 - val_accuracy: 0.8457\n",
            "Epoch 2/5\n",
            "2700/2700 [==============================] - 7s 3ms/step - loss: 0.3949 - accuracy: 0.8568 - val_loss: 0.4124 - val_accuracy: 0.8522\n",
            "Epoch 3/5\n",
            "2700/2700 [==============================] - 7s 3ms/step - loss: 0.3529 - accuracy: 0.8714 - val_loss: 0.4370 - val_accuracy: 0.8503\n",
            "Epoch 4/5\n",
            "2700/2700 [==============================] - 7s 3ms/step - loss: 0.3170 - accuracy: 0.8849 - val_loss: 0.4350 - val_accuracy: 0.8493\n",
            "Epoch 5/5\n",
            "2700/2700 [==============================] - 7s 3ms/step - loss: 0.2849 - accuracy: 0.8969 - val_loss: 0.4702 - val_accuracy: 0.8464\n",
            "675/675 [==============================] - 1s 2ms/step - loss: 0.4938 - accuracy: 0.8387\n",
            "Epoch 1/5\n",
            "2700/2700 [==============================] - 8s 3ms/step - loss: 0.4778 - accuracy: 0.8267 - val_loss: 0.4496 - val_accuracy: 0.8367\n",
            "Epoch 2/5\n",
            "2700/2700 [==============================] - 7s 3ms/step - loss: 0.4005 - accuracy: 0.8531 - val_loss: 0.4191 - val_accuracy: 0.8497\n",
            "Epoch 3/5\n",
            "2700/2700 [==============================] - 7s 3ms/step - loss: 0.3594 - accuracy: 0.8692 - val_loss: 0.4165 - val_accuracy: 0.8509\n",
            "Epoch 4/5\n",
            "2700/2700 [==============================] - 7s 3ms/step - loss: 0.3220 - accuracy: 0.8838 - val_loss: 0.4441 - val_accuracy: 0.8451\n",
            "Epoch 5/5\n",
            "2700/2700 [==============================] - 7s 3ms/step - loss: 0.2877 - accuracy: 0.8955 - val_loss: 0.4541 - val_accuracy: 0.8458\n",
            "675/675 [==============================] - 1s 2ms/step - loss: 0.4504 - accuracy: 0.8525\n",
            "Epoch 1/5\n",
            "2700/2700 [==============================] - 7s 3ms/step - loss: 0.4742 - accuracy: 0.8286 - val_loss: 0.4462 - val_accuracy: 0.8403\n",
            "Epoch 2/5\n",
            "2700/2700 [==============================] - 7s 3ms/step - loss: 0.3970 - accuracy: 0.8560 - val_loss: 0.4224 - val_accuracy: 0.8482\n",
            "Epoch 3/5\n",
            "2700/2700 [==============================] - 7s 3ms/step - loss: 0.3561 - accuracy: 0.8717 - val_loss: 0.4228 - val_accuracy: 0.8518\n",
            "Epoch 4/5\n",
            "2700/2700 [==============================] - 7s 3ms/step - loss: 0.3178 - accuracy: 0.8849 - val_loss: 0.4383 - val_accuracy: 0.8462\n",
            "Epoch 5/5\n",
            "2700/2700 [==============================] - 7s 3ms/step - loss: 0.2835 - accuracy: 0.8975 - val_loss: 0.4643 - val_accuracy: 0.8444\n",
            "675/675 [==============================] - 1s 2ms/step - loss: 0.4662 - accuracy: 0.8454\n",
            "Epoch 1/5\n",
            "2700/2700 [==============================] - 7s 2ms/step - loss: 0.6686 - accuracy: 0.7767 - val_loss: 0.6873 - val_accuracy: 0.7383\n",
            "Epoch 2/5\n",
            "2700/2700 [==============================] - 6s 2ms/step - loss: 0.7476 - accuracy: 0.7382 - val_loss: 0.7547 - val_accuracy: 0.7807\n",
            "Epoch 3/5\n",
            "2700/2700 [==============================] - 6s 2ms/step - loss: 0.7310 - accuracy: 0.7643 - val_loss: 0.7879 - val_accuracy: 0.7939\n",
            "Epoch 4/5\n",
            "2700/2700 [==============================] - 6s 2ms/step - loss: 0.7131 - accuracy: 0.7738 - val_loss: 0.7174 - val_accuracy: 0.7732\n",
            "Epoch 5/5\n",
            "2700/2700 [==============================] - 6s 2ms/step - loss: 0.7063 - accuracy: 0.7786 - val_loss: 0.7114 - val_accuracy: 0.7623\n",
            "675/675 [==============================] - 1s 2ms/step - loss: 0.7084 - accuracy: 0.7617\n",
            "Epoch 1/5\n",
            "2700/2700 [==============================] - 7s 2ms/step - loss: 0.6743 - accuracy: 0.7735 - val_loss: 0.6786 - val_accuracy: 0.7794\n",
            "Epoch 2/5\n",
            "2700/2700 [==============================] - 6s 2ms/step - loss: 0.6516 - accuracy: 0.7895 - val_loss: 0.6534 - val_accuracy: 0.7948\n",
            "Epoch 3/5\n",
            "2700/2700 [==============================] - 6s 2ms/step - loss: 0.6843 - accuracy: 0.7854 - val_loss: 0.6639 - val_accuracy: 0.7866\n",
            "Epoch 4/5\n",
            "2700/2700 [==============================] - 6s 2ms/step - loss: 0.6848 - accuracy: 0.7898 - val_loss: 0.8388 - val_accuracy: 0.8063\n",
            "Epoch 5/5\n",
            "2700/2700 [==============================] - 6s 2ms/step - loss: 0.8111 - accuracy: 0.6801 - val_loss: 0.8990 - val_accuracy: 0.5900\n",
            "675/675 [==============================] - 1s 2ms/step - loss: 0.8848 - accuracy: 0.5867\n",
            "Epoch 1/5\n",
            "2700/2700 [==============================] - 7s 2ms/step - loss: 0.6893 - accuracy: 0.7703 - val_loss: 0.6899 - val_accuracy: 0.7617\n",
            "Epoch 2/5\n",
            "2700/2700 [==============================] - 6s 2ms/step - loss: 0.6525 - accuracy: 0.7924 - val_loss: 0.6543 - val_accuracy: 0.7943\n",
            "Epoch 3/5\n",
            "2700/2700 [==============================] - 6s 2ms/step - loss: 0.6897 - accuracy: 0.7868 - val_loss: 0.7129 - val_accuracy: 0.8062\n",
            "Epoch 4/5\n",
            "2700/2700 [==============================] - 7s 2ms/step - loss: 0.6997 - accuracy: 0.7949 - val_loss: 0.7222 - val_accuracy: 0.7926\n",
            "Epoch 5/5\n",
            "2700/2700 [==============================] - 6s 2ms/step - loss: 0.6781 - accuracy: 0.8008 - val_loss: 0.7178 - val_accuracy: 0.8064\n",
            "675/675 [==============================] - 1s 2ms/step - loss: 0.7309 - accuracy: 0.8004\n",
            "Epoch 1/5\n",
            "2700/2700 [==============================] - 7s 2ms/step - loss: 0.7027 - accuracy: 0.7691 - val_loss: 0.6551 - val_accuracy: 0.7899\n",
            "Epoch 2/5\n",
            "2700/2700 [==============================] - 6s 2ms/step - loss: 0.6693 - accuracy: 0.7909 - val_loss: 1.1067 - val_accuracy: 0.7998\n",
            "Epoch 3/5\n",
            "2700/2700 [==============================] - 6s 2ms/step - loss: 0.6881 - accuracy: 0.7801 - val_loss: 0.6827 - val_accuracy: 0.7980\n",
            "Epoch 4/5\n",
            "2700/2700 [==============================] - 7s 2ms/step - loss: 0.7892 - accuracy: 0.6992 - val_loss: 0.7965 - val_accuracy: 0.7485\n",
            "Epoch 5/5\n",
            "2700/2700 [==============================] - 7s 2ms/step - loss: 0.9797 - accuracy: 0.6014 - val_loss: 1.1875 - val_accuracy: 0.4177\n",
            "675/675 [==============================] - 1s 2ms/step - loss: 1.1881 - accuracy: 0.4128\n",
            "Epoch 1/5\n",
            "2700/2700 [==============================] - 7s 2ms/step - loss: 0.6643 - accuracy: 0.7828 - val_loss: 0.6258 - val_accuracy: 0.7878\n",
            "Epoch 2/5\n",
            "2700/2700 [==============================] - 6s 2ms/step - loss: 0.6577 - accuracy: 0.7861 - val_loss: 0.6651 - val_accuracy: 0.7946\n",
            "Epoch 3/5\n",
            "2700/2700 [==============================] - 6s 2ms/step - loss: 0.6596 - accuracy: 0.7802 - val_loss: 0.7432 - val_accuracy: 0.7109\n",
            "Epoch 4/5\n",
            "2700/2700 [==============================] - 6s 2ms/step - loss: 0.6862 - accuracy: 0.7711 - val_loss: 0.6822 - val_accuracy: 0.7885\n",
            "Epoch 5/5\n",
            "2700/2700 [==============================] - 7s 2ms/step - loss: 0.7146 - accuracy: 0.7735 - val_loss: 0.8901 - val_accuracy: 0.6338\n",
            "675/675 [==============================] - 1s 2ms/step - loss: 0.9513 - accuracy: 0.6256\n",
            "Epoch 1/5\n",
            "2700/2700 [==============================] - 7s 2ms/step - loss: 0.6987 - accuracy: 0.7582 - val_loss: 0.6878 - val_accuracy: 0.7589\n",
            "Epoch 2/5\n",
            "2700/2700 [==============================] - 6s 2ms/step - loss: 0.6920 - accuracy: 0.7742 - val_loss: 0.6479 - val_accuracy: 0.7951\n",
            "Epoch 3/5\n",
            "2700/2700 [==============================] - 7s 2ms/step - loss: 0.6602 - accuracy: 0.7962 - val_loss: 0.6722 - val_accuracy: 0.7869\n",
            "Epoch 4/5\n",
            "2700/2700 [==============================] - 6s 2ms/step - loss: 0.8804 - accuracy: 0.6312 - val_loss: 0.8464 - val_accuracy: 0.6405\n",
            "Epoch 5/5\n",
            "2700/2700 [==============================] - 7s 2ms/step - loss: 0.8300 - accuracy: 0.6433 - val_loss: 0.8166 - val_accuracy: 0.6403\n",
            "675/675 [==============================] - 1s 2ms/step - loss: 0.7927 - accuracy: 0.6469\n",
            "Epoch 1/5\n",
            "2700/2700 [==============================] - 8s 3ms/step - loss: 0.7275 - accuracy: 0.7509 - val_loss: 0.6634 - val_accuracy: 0.7870\n",
            "Epoch 2/5\n",
            "2700/2700 [==============================] - 7s 3ms/step - loss: 0.6774 - accuracy: 0.7736 - val_loss: 0.6733 - val_accuracy: 0.7643\n",
            "Epoch 3/5\n",
            "2700/2700 [==============================] - 7s 2ms/step - loss: 0.6746 - accuracy: 0.7779 - val_loss: 0.6552 - val_accuracy: 0.7902\n",
            "Epoch 4/5\n",
            "2700/2700 [==============================] - 6s 2ms/step - loss: 0.7109 - accuracy: 0.7719 - val_loss: 1.2838 - val_accuracy: 0.6786\n",
            "Epoch 5/5\n",
            "2700/2700 [==============================] - 7s 2ms/step - loss: 0.7269 - accuracy: 0.7642 - val_loss: 0.8649 - val_accuracy: 0.6066\n",
            "675/675 [==============================] - 1s 2ms/step - loss: 0.8501 - accuracy: 0.6060\n",
            "Epoch 1/5\n",
            "2700/2700 [==============================] - 7s 2ms/step - loss: 0.7773 - accuracy: 0.6730 - val_loss: 0.7887 - val_accuracy: 0.6872\n",
            "Epoch 2/5\n",
            "2700/2700 [==============================] - 7s 2ms/step - loss: 0.7377 - accuracy: 0.7212 - val_loss: 0.7217 - val_accuracy: 0.7814\n",
            "Epoch 3/5\n",
            "2700/2700 [==============================] - 7s 2ms/step - loss: 0.7137 - accuracy: 0.7761 - val_loss: 0.6662 - val_accuracy: 0.7836\n",
            "Epoch 4/5\n",
            "2700/2700 [==============================] - 6s 2ms/step - loss: 0.7382 - accuracy: 0.7590 - val_loss: 0.7986 - val_accuracy: 0.7697\n",
            "Epoch 5/5\n",
            "2700/2700 [==============================] - 6s 2ms/step - loss: 0.7892 - accuracy: 0.7305 - val_loss: 0.8963 - val_accuracy: 0.7710\n",
            "675/675 [==============================] - 1s 2ms/step - loss: 0.9137 - accuracy: 0.7667\n",
            "Epoch 1/5\n",
            "2700/2700 [==============================] - 7s 3ms/step - loss: 0.7148 - accuracy: 0.7583 - val_loss: 0.7544 - val_accuracy: 0.7072\n",
            "Epoch 2/5\n",
            "2700/2700 [==============================] - 7s 2ms/step - loss: 0.6651 - accuracy: 0.7873 - val_loss: 0.6619 - val_accuracy: 0.8055\n",
            "Epoch 3/5\n",
            "2700/2700 [==============================] - 9s 3ms/step - loss: 0.8410 - accuracy: 0.6511 - val_loss: 0.8292 - val_accuracy: 0.6858\n",
            "Epoch 4/5\n",
            "2700/2700 [==============================] - 7s 2ms/step - loss: 0.8013 - accuracy: 0.6710 - val_loss: 0.8054 - val_accuracy: 0.6938\n",
            "Epoch 5/5\n",
            "2700/2700 [==============================] - 7s 2ms/step - loss: 0.7702 - accuracy: 0.6930 - val_loss: 0.7998 - val_accuracy: 0.6958\n",
            "675/675 [==============================] - 1s 2ms/step - loss: 0.7962 - accuracy: 0.6945\n",
            "Epoch 1/5\n",
            "2700/2700 [==============================] - 7s 3ms/step - loss: 0.6979 - accuracy: 0.7683 - val_loss: 0.6580 - val_accuracy: 0.7869\n",
            "Epoch 2/5\n",
            "2700/2700 [==============================] - 7s 2ms/step - loss: 0.6736 - accuracy: 0.7880 - val_loss: 0.6676 - val_accuracy: 0.8012\n",
            "Epoch 3/5\n",
            "2700/2700 [==============================] - 6s 2ms/step - loss: 0.6725 - accuracy: 0.7944 - val_loss: 0.6230 - val_accuracy: 0.7930\n",
            "Epoch 4/5\n",
            "2700/2700 [==============================] - 7s 2ms/step - loss: 0.7698 - accuracy: 0.7182 - val_loss: 0.9399 - val_accuracy: 0.6078\n",
            "Epoch 5/5\n",
            "2700/2700 [==============================] - 7s 3ms/step - loss: 0.8789 - accuracy: 0.6114 - val_loss: 0.8872 - val_accuracy: 0.6089\n",
            "675/675 [==============================] - 1s 2ms/step - loss: 0.8848 - accuracy: 0.6079\n",
            "Epoch 1/5\n",
            "2700/2700 [==============================] - 8s 3ms/step - loss: 0.7146 - accuracy: 0.7610 - val_loss: 0.8398 - val_accuracy: 0.7375\n",
            "Epoch 2/5\n",
            "2700/2700 [==============================] - 7s 3ms/step - loss: 0.6646 - accuracy: 0.7800 - val_loss: 0.6413 - val_accuracy: 0.7767\n",
            "Epoch 3/5\n",
            "2700/2700 [==============================] - 7s 3ms/step - loss: 0.7676 - accuracy: 0.6648 - val_loss: 0.7749 - val_accuracy: 0.6177\n",
            "Epoch 4/5\n",
            "2700/2700 [==============================] - 7s 3ms/step - loss: 0.9212 - accuracy: 0.6420 - val_loss: 0.9453 - val_accuracy: 0.6412\n",
            "Epoch 5/5\n",
            "2700/2700 [==============================] - 7s 3ms/step - loss: 0.7636 - accuracy: 0.7361 - val_loss: 0.7099 - val_accuracy: 0.7555\n",
            "675/675 [==============================] - 1s 2ms/step - loss: 0.6999 - accuracy: 0.7637\n",
            "Epoch 1/5\n",
            "2700/2700 [==============================] - 8s 3ms/step - loss: 0.7267 - accuracy: 0.7684 - val_loss: 0.7164 - val_accuracy: 0.7842\n",
            "Epoch 2/5\n",
            "2700/2700 [==============================] - 7s 3ms/step - loss: 0.6736 - accuracy: 0.7927 - val_loss: 0.6732 - val_accuracy: 0.7885\n",
            "Epoch 3/5\n",
            "2700/2700 [==============================] - 7s 3ms/step - loss: 0.7020 - accuracy: 0.7888 - val_loss: 0.7059 - val_accuracy: 0.7479\n",
            "Epoch 4/5\n",
            "2700/2700 [==============================] - 7s 3ms/step - loss: 0.7655 - accuracy: 0.7595 - val_loss: 0.7593 - val_accuracy: 0.7612\n",
            "Epoch 5/5\n",
            "2700/2700 [==============================] - 7s 3ms/step - loss: 0.7686 - accuracy: 0.7608 - val_loss: 0.7989 - val_accuracy: 0.7677\n",
            "675/675 [==============================] - 1s 2ms/step - loss: 0.7920 - accuracy: 0.7669\n",
            "Epoch 1/5\n",
            "2700/2700 [==============================] - 8s 3ms/step - loss: 0.6787 - accuracy: 0.7693 - val_loss: 0.6560 - val_accuracy: 0.7765\n",
            "Epoch 2/5\n",
            "2700/2700 [==============================] - 7s 3ms/step - loss: 0.6543 - accuracy: 0.7863 - val_loss: 0.6268 - val_accuracy: 0.7653\n",
            "Epoch 3/5\n",
            "2700/2700 [==============================] - 7s 3ms/step - loss: 0.7555 - accuracy: 0.6618 - val_loss: 0.7384 - val_accuracy: 0.6466\n",
            "Epoch 4/5\n",
            "2700/2700 [==============================] - 7s 3ms/step - loss: 0.7854 - accuracy: 0.6333 - val_loss: 0.8557 - val_accuracy: 0.6366\n",
            "Epoch 5/5\n",
            "2700/2700 [==============================] - 7s 3ms/step - loss: 0.7617 - accuracy: 0.6424 - val_loss: 0.7655 - val_accuracy: 0.6323\n",
            "675/675 [==============================] - 1s 2ms/step - loss: 0.7642 - accuracy: 0.6278\n",
            "Epoch 1/5\n",
            "2700/2700 [==============================] - 8s 3ms/step - loss: 0.7952 - accuracy: 0.6917 - val_loss: 0.8278 - val_accuracy: 0.6816\n",
            "Epoch 2/5\n",
            "2700/2700 [==============================] - 7s 3ms/step - loss: 0.6907 - accuracy: 0.7767 - val_loss: 0.7463 - val_accuracy: 0.7886\n",
            "Epoch 3/5\n",
            "2700/2700 [==============================] - 7s 3ms/step - loss: 0.8649 - accuracy: 0.6616 - val_loss: 0.8158 - val_accuracy: 0.6393\n",
            "Epoch 4/5\n",
            "2700/2700 [==============================] - 7s 3ms/step - loss: 0.8461 - accuracy: 0.6485 - val_loss: 0.8400 - val_accuracy: 0.6487\n",
            "Epoch 5/5\n",
            "2700/2700 [==============================] - 7s 3ms/step - loss: 0.8095 - accuracy: 0.6470 - val_loss: 0.8434 - val_accuracy: 0.6177\n",
            "675/675 [==============================] - 1s 2ms/step - loss: 0.8429 - accuracy: 0.6120\n",
            "Epoch 1/5\n",
            "2700/2700 [==============================] - 8s 3ms/step - loss: 0.7231 - accuracy: 0.7701 - val_loss: 0.6601 - val_accuracy: 0.7962\n",
            "Epoch 2/5\n",
            "2700/2700 [==============================] - 7s 3ms/step - loss: 0.6811 - accuracy: 0.7888 - val_loss: 0.8646 - val_accuracy: 0.7974\n",
            "Epoch 3/5\n",
            "2700/2700 [==============================] - 7s 3ms/step - loss: 0.7121 - accuracy: 0.7719 - val_loss: 0.7568 - val_accuracy: 0.7834\n",
            "Epoch 4/5\n",
            "2700/2700 [==============================] - 7s 3ms/step - loss: 0.8033 - accuracy: 0.7652 - val_loss: 0.8605 - val_accuracy: 0.6502\n",
            "Epoch 5/5\n",
            "2700/2700 [==============================] - 7s 3ms/step - loss: 0.7376 - accuracy: 0.7673 - val_loss: 0.7718 - val_accuracy: 0.7802\n",
            "675/675 [==============================] - 1s 2ms/step - loss: 0.7685 - accuracy: 0.7818\n",
            "Epoch 1/5\n",
            "3375/3375 [==============================] - 9s 3ms/step - loss: 0.6328 - accuracy: 0.7824 - val_loss: 0.4428 - val_accuracy: 0.8462\n",
            "Epoch 2/5\n",
            "3375/3375 [==============================] - 9s 3ms/step - loss: 0.4147 - accuracy: 0.8537 - val_loss: 0.4213 - val_accuracy: 0.8512\n",
            "Epoch 3/5\n",
            "3375/3375 [==============================] - 9s 3ms/step - loss: 0.3973 - accuracy: 0.8585 - val_loss: 0.4160 - val_accuracy: 0.8521\n",
            "Epoch 4/5\n",
            "3375/3375 [==============================] - 9s 3ms/step - loss: 0.3881 - accuracy: 0.8603 - val_loss: 0.4100 - val_accuracy: 0.8518\n",
            "Epoch 5/5\n",
            "3375/3375 [==============================] - 9s 3ms/step - loss: 0.3811 - accuracy: 0.8624 - val_loss: 0.4076 - val_accuracy: 0.8523\n"
          ]
        },
        {
          "output_type": "execute_result",
          "data": {
            "text/plain": [
              "GridSearchCV(estimator=<keras.wrappers.scikit_learn.KerasRegressor object at 0x7f2315f2e250>,\n",
              "             param_grid={'learning_rate': (0.0001, 0.01, 0.1),\n",
              "                         'n_units': (30, 40, 60)})"
            ]
          },
          "metadata": {},
          "execution_count": 30
        }
      ]
    },
    {
      "cell_type": "markdown",
      "metadata": {
        "id": "aadmkiOoyM94"
      },
      "source": [
        "Print the best hyper-parameters, and evealuate the best model on the test set."
      ]
    },
    {
      "cell_type": "code",
      "metadata": {
        "id": "b0nL5OZkylNX",
        "colab": {
          "base_uri": "https://localhost:8080/"
        },
        "outputId": "4fc9d46b-a437-4d5b-d05a-97351b3d7b52"
      },
      "source": [
        "print(grid_search.best_params_)\n",
        "\n",
        "model = grid_search.best_estimator_.model\n",
        "model.evaluate(X_test, y_test)"
      ],
      "execution_count": 31,
      "outputs": [
        {
          "output_type": "stream",
          "name": "stdout",
          "text": [
            "{'learning_rate': 0.0001, 'n_units': 60}\n",
            "238/238 [==============================] - 1s 2ms/step - loss: 0.4146 - accuracy: 0.8529\n"
          ]
        },
        {
          "output_type": "execute_result",
          "data": {
            "text/plain": [
              "[0.41460558772087097, 0.8528947234153748]"
            ]
          },
          "metadata": {},
          "execution_count": 31
        }
      ]
    }
  ]
}